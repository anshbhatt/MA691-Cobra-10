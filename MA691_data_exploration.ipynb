{
 "cells": [
  {
   "cell_type": "markdown",
   "id": "100d5f97",
   "metadata": {},
   "source": [
    "# Data Exploration"
   ]
  },
  {
   "cell_type": "code",
   "execution_count": 1,
   "id": "d1023fc7",
   "metadata": {},
   "outputs": [],
   "source": [
    "import pandas as pd\n",
    "import seaborn as sns\n",
    "\n",
    "data = pd.read_csv(r\"C:\\\\Users\\\\DELL\\\\Downloads\\\\german.data\",delimiter=' ', header=None)"
   ]
  },
  {
   "cell_type": "code",
   "execution_count": 2,
   "id": "e6aec765",
   "metadata": {},
   "outputs": [
    {
     "data": {
      "text/html": [
       "<div>\n",
       "<style scoped>\n",
       "    .dataframe tbody tr th:only-of-type {\n",
       "        vertical-align: middle;\n",
       "    }\n",
       "\n",
       "    .dataframe tbody tr th {\n",
       "        vertical-align: top;\n",
       "    }\n",
       "\n",
       "    .dataframe thead th {\n",
       "        text-align: right;\n",
       "    }\n",
       "</style>\n",
       "<table border=\"1\" class=\"dataframe\">\n",
       "  <thead>\n",
       "    <tr style=\"text-align: right;\">\n",
       "      <th></th>\n",
       "      <th>0</th>\n",
       "      <th>1</th>\n",
       "      <th>2</th>\n",
       "      <th>3</th>\n",
       "      <th>4</th>\n",
       "      <th>5</th>\n",
       "      <th>6</th>\n",
       "      <th>7</th>\n",
       "      <th>8</th>\n",
       "      <th>9</th>\n",
       "      <th>...</th>\n",
       "      <th>11</th>\n",
       "      <th>12</th>\n",
       "      <th>13</th>\n",
       "      <th>14</th>\n",
       "      <th>15</th>\n",
       "      <th>16</th>\n",
       "      <th>17</th>\n",
       "      <th>18</th>\n",
       "      <th>19</th>\n",
       "      <th>20</th>\n",
       "    </tr>\n",
       "  </thead>\n",
       "  <tbody>\n",
       "    <tr>\n",
       "      <th>0</th>\n",
       "      <td>A11</td>\n",
       "      <td>6</td>\n",
       "      <td>A34</td>\n",
       "      <td>A43</td>\n",
       "      <td>1169</td>\n",
       "      <td>A65</td>\n",
       "      <td>A75</td>\n",
       "      <td>4</td>\n",
       "      <td>A93</td>\n",
       "      <td>A101</td>\n",
       "      <td>...</td>\n",
       "      <td>A121</td>\n",
       "      <td>67</td>\n",
       "      <td>A143</td>\n",
       "      <td>A152</td>\n",
       "      <td>2</td>\n",
       "      <td>A173</td>\n",
       "      <td>1</td>\n",
       "      <td>A192</td>\n",
       "      <td>A201</td>\n",
       "      <td>1</td>\n",
       "    </tr>\n",
       "    <tr>\n",
       "      <th>1</th>\n",
       "      <td>A12</td>\n",
       "      <td>48</td>\n",
       "      <td>A32</td>\n",
       "      <td>A43</td>\n",
       "      <td>5951</td>\n",
       "      <td>A61</td>\n",
       "      <td>A73</td>\n",
       "      <td>2</td>\n",
       "      <td>A92</td>\n",
       "      <td>A101</td>\n",
       "      <td>...</td>\n",
       "      <td>A121</td>\n",
       "      <td>22</td>\n",
       "      <td>A143</td>\n",
       "      <td>A152</td>\n",
       "      <td>1</td>\n",
       "      <td>A173</td>\n",
       "      <td>1</td>\n",
       "      <td>A191</td>\n",
       "      <td>A201</td>\n",
       "      <td>2</td>\n",
       "    </tr>\n",
       "    <tr>\n",
       "      <th>2</th>\n",
       "      <td>A14</td>\n",
       "      <td>12</td>\n",
       "      <td>A34</td>\n",
       "      <td>A46</td>\n",
       "      <td>2096</td>\n",
       "      <td>A61</td>\n",
       "      <td>A74</td>\n",
       "      <td>2</td>\n",
       "      <td>A93</td>\n",
       "      <td>A101</td>\n",
       "      <td>...</td>\n",
       "      <td>A121</td>\n",
       "      <td>49</td>\n",
       "      <td>A143</td>\n",
       "      <td>A152</td>\n",
       "      <td>1</td>\n",
       "      <td>A172</td>\n",
       "      <td>2</td>\n",
       "      <td>A191</td>\n",
       "      <td>A201</td>\n",
       "      <td>1</td>\n",
       "    </tr>\n",
       "    <tr>\n",
       "      <th>3</th>\n",
       "      <td>A11</td>\n",
       "      <td>42</td>\n",
       "      <td>A32</td>\n",
       "      <td>A42</td>\n",
       "      <td>7882</td>\n",
       "      <td>A61</td>\n",
       "      <td>A74</td>\n",
       "      <td>2</td>\n",
       "      <td>A93</td>\n",
       "      <td>A103</td>\n",
       "      <td>...</td>\n",
       "      <td>A122</td>\n",
       "      <td>45</td>\n",
       "      <td>A143</td>\n",
       "      <td>A153</td>\n",
       "      <td>1</td>\n",
       "      <td>A173</td>\n",
       "      <td>2</td>\n",
       "      <td>A191</td>\n",
       "      <td>A201</td>\n",
       "      <td>1</td>\n",
       "    </tr>\n",
       "    <tr>\n",
       "      <th>4</th>\n",
       "      <td>A11</td>\n",
       "      <td>24</td>\n",
       "      <td>A33</td>\n",
       "      <td>A40</td>\n",
       "      <td>4870</td>\n",
       "      <td>A61</td>\n",
       "      <td>A73</td>\n",
       "      <td>3</td>\n",
       "      <td>A93</td>\n",
       "      <td>A101</td>\n",
       "      <td>...</td>\n",
       "      <td>A124</td>\n",
       "      <td>53</td>\n",
       "      <td>A143</td>\n",
       "      <td>A153</td>\n",
       "      <td>2</td>\n",
       "      <td>A173</td>\n",
       "      <td>2</td>\n",
       "      <td>A191</td>\n",
       "      <td>A201</td>\n",
       "      <td>2</td>\n",
       "    </tr>\n",
       "    <tr>\n",
       "      <th>...</th>\n",
       "      <td>...</td>\n",
       "      <td>...</td>\n",
       "      <td>...</td>\n",
       "      <td>...</td>\n",
       "      <td>...</td>\n",
       "      <td>...</td>\n",
       "      <td>...</td>\n",
       "      <td>...</td>\n",
       "      <td>...</td>\n",
       "      <td>...</td>\n",
       "      <td>...</td>\n",
       "      <td>...</td>\n",
       "      <td>...</td>\n",
       "      <td>...</td>\n",
       "      <td>...</td>\n",
       "      <td>...</td>\n",
       "      <td>...</td>\n",
       "      <td>...</td>\n",
       "      <td>...</td>\n",
       "      <td>...</td>\n",
       "      <td>...</td>\n",
       "    </tr>\n",
       "    <tr>\n",
       "      <th>995</th>\n",
       "      <td>A14</td>\n",
       "      <td>12</td>\n",
       "      <td>A32</td>\n",
       "      <td>A42</td>\n",
       "      <td>1736</td>\n",
       "      <td>A61</td>\n",
       "      <td>A74</td>\n",
       "      <td>3</td>\n",
       "      <td>A92</td>\n",
       "      <td>A101</td>\n",
       "      <td>...</td>\n",
       "      <td>A121</td>\n",
       "      <td>31</td>\n",
       "      <td>A143</td>\n",
       "      <td>A152</td>\n",
       "      <td>1</td>\n",
       "      <td>A172</td>\n",
       "      <td>1</td>\n",
       "      <td>A191</td>\n",
       "      <td>A201</td>\n",
       "      <td>1</td>\n",
       "    </tr>\n",
       "    <tr>\n",
       "      <th>996</th>\n",
       "      <td>A11</td>\n",
       "      <td>30</td>\n",
       "      <td>A32</td>\n",
       "      <td>A41</td>\n",
       "      <td>3857</td>\n",
       "      <td>A61</td>\n",
       "      <td>A73</td>\n",
       "      <td>4</td>\n",
       "      <td>A91</td>\n",
       "      <td>A101</td>\n",
       "      <td>...</td>\n",
       "      <td>A122</td>\n",
       "      <td>40</td>\n",
       "      <td>A143</td>\n",
       "      <td>A152</td>\n",
       "      <td>1</td>\n",
       "      <td>A174</td>\n",
       "      <td>1</td>\n",
       "      <td>A192</td>\n",
       "      <td>A201</td>\n",
       "      <td>1</td>\n",
       "    </tr>\n",
       "    <tr>\n",
       "      <th>997</th>\n",
       "      <td>A14</td>\n",
       "      <td>12</td>\n",
       "      <td>A32</td>\n",
       "      <td>A43</td>\n",
       "      <td>804</td>\n",
       "      <td>A61</td>\n",
       "      <td>A75</td>\n",
       "      <td>4</td>\n",
       "      <td>A93</td>\n",
       "      <td>A101</td>\n",
       "      <td>...</td>\n",
       "      <td>A123</td>\n",
       "      <td>38</td>\n",
       "      <td>A143</td>\n",
       "      <td>A152</td>\n",
       "      <td>1</td>\n",
       "      <td>A173</td>\n",
       "      <td>1</td>\n",
       "      <td>A191</td>\n",
       "      <td>A201</td>\n",
       "      <td>1</td>\n",
       "    </tr>\n",
       "    <tr>\n",
       "      <th>998</th>\n",
       "      <td>A11</td>\n",
       "      <td>45</td>\n",
       "      <td>A32</td>\n",
       "      <td>A43</td>\n",
       "      <td>1845</td>\n",
       "      <td>A61</td>\n",
       "      <td>A73</td>\n",
       "      <td>4</td>\n",
       "      <td>A93</td>\n",
       "      <td>A101</td>\n",
       "      <td>...</td>\n",
       "      <td>A124</td>\n",
       "      <td>23</td>\n",
       "      <td>A143</td>\n",
       "      <td>A153</td>\n",
       "      <td>1</td>\n",
       "      <td>A173</td>\n",
       "      <td>1</td>\n",
       "      <td>A192</td>\n",
       "      <td>A201</td>\n",
       "      <td>2</td>\n",
       "    </tr>\n",
       "    <tr>\n",
       "      <th>999</th>\n",
       "      <td>A12</td>\n",
       "      <td>45</td>\n",
       "      <td>A34</td>\n",
       "      <td>A41</td>\n",
       "      <td>4576</td>\n",
       "      <td>A62</td>\n",
       "      <td>A71</td>\n",
       "      <td>3</td>\n",
       "      <td>A93</td>\n",
       "      <td>A101</td>\n",
       "      <td>...</td>\n",
       "      <td>A123</td>\n",
       "      <td>27</td>\n",
       "      <td>A143</td>\n",
       "      <td>A152</td>\n",
       "      <td>1</td>\n",
       "      <td>A173</td>\n",
       "      <td>1</td>\n",
       "      <td>A191</td>\n",
       "      <td>A201</td>\n",
       "      <td>1</td>\n",
       "    </tr>\n",
       "  </tbody>\n",
       "</table>\n",
       "<p>1000 rows × 21 columns</p>\n",
       "</div>"
      ],
      "text/plain": [
       "      0   1    2    3     4    5    6   7    8     9   ...    11  12    13  \\\n",
       "0    A11   6  A34  A43  1169  A65  A75   4  A93  A101  ...  A121  67  A143   \n",
       "1    A12  48  A32  A43  5951  A61  A73   2  A92  A101  ...  A121  22  A143   \n",
       "2    A14  12  A34  A46  2096  A61  A74   2  A93  A101  ...  A121  49  A143   \n",
       "3    A11  42  A32  A42  7882  A61  A74   2  A93  A103  ...  A122  45  A143   \n",
       "4    A11  24  A33  A40  4870  A61  A73   3  A93  A101  ...  A124  53  A143   \n",
       "..   ...  ..  ...  ...   ...  ...  ...  ..  ...   ...  ...   ...  ..   ...   \n",
       "995  A14  12  A32  A42  1736  A61  A74   3  A92  A101  ...  A121  31  A143   \n",
       "996  A11  30  A32  A41  3857  A61  A73   4  A91  A101  ...  A122  40  A143   \n",
       "997  A14  12  A32  A43   804  A61  A75   4  A93  A101  ...  A123  38  A143   \n",
       "998  A11  45  A32  A43  1845  A61  A73   4  A93  A101  ...  A124  23  A143   \n",
       "999  A12  45  A34  A41  4576  A62  A71   3  A93  A101  ...  A123  27  A143   \n",
       "\n",
       "       14 15    16 17    18    19 20  \n",
       "0    A152  2  A173  1  A192  A201  1  \n",
       "1    A152  1  A173  1  A191  A201  2  \n",
       "2    A152  1  A172  2  A191  A201  1  \n",
       "3    A153  1  A173  2  A191  A201  1  \n",
       "4    A153  2  A173  2  A191  A201  2  \n",
       "..    ... ..   ... ..   ...   ... ..  \n",
       "995  A152  1  A172  1  A191  A201  1  \n",
       "996  A152  1  A174  1  A192  A201  1  \n",
       "997  A152  1  A173  1  A191  A201  1  \n",
       "998  A153  1  A173  1  A192  A201  2  \n",
       "999  A152  1  A173  1  A191  A201  1  \n",
       "\n",
       "[1000 rows x 21 columns]"
      ]
     },
     "execution_count": 2,
     "metadata": {},
     "output_type": "execute_result"
    }
   ],
   "source": [
    "data"
   ]
  },
  {
   "cell_type": "code",
   "execution_count": 3,
   "id": "e3e94422",
   "metadata": {},
   "outputs": [
    {
     "data": {
      "text/html": [
       "<div>\n",
       "<style scoped>\n",
       "    .dataframe tbody tr th:only-of-type {\n",
       "        vertical-align: middle;\n",
       "    }\n",
       "\n",
       "    .dataframe tbody tr th {\n",
       "        vertical-align: top;\n",
       "    }\n",
       "\n",
       "    .dataframe thead th {\n",
       "        text-align: right;\n",
       "    }\n",
       "</style>\n",
       "<table border=\"1\" class=\"dataframe\">\n",
       "  <thead>\n",
       "    <tr style=\"text-align: right;\">\n",
       "      <th></th>\n",
       "      <th>1</th>\n",
       "      <th>4</th>\n",
       "      <th>7</th>\n",
       "      <th>10</th>\n",
       "      <th>12</th>\n",
       "      <th>15</th>\n",
       "      <th>17</th>\n",
       "      <th>20</th>\n",
       "    </tr>\n",
       "  </thead>\n",
       "  <tbody>\n",
       "    <tr>\n",
       "      <th>count</th>\n",
       "      <td>1000.000000</td>\n",
       "      <td>1000.000000</td>\n",
       "      <td>1000.000000</td>\n",
       "      <td>1000.000000</td>\n",
       "      <td>1000.000000</td>\n",
       "      <td>1000.000000</td>\n",
       "      <td>1000.000000</td>\n",
       "      <td>1000.000000</td>\n",
       "    </tr>\n",
       "    <tr>\n",
       "      <th>mean</th>\n",
       "      <td>20.903000</td>\n",
       "      <td>3271.258000</td>\n",
       "      <td>2.973000</td>\n",
       "      <td>2.845000</td>\n",
       "      <td>35.546000</td>\n",
       "      <td>1.407000</td>\n",
       "      <td>1.155000</td>\n",
       "      <td>1.300000</td>\n",
       "    </tr>\n",
       "    <tr>\n",
       "      <th>std</th>\n",
       "      <td>12.058814</td>\n",
       "      <td>2822.736876</td>\n",
       "      <td>1.118715</td>\n",
       "      <td>1.103718</td>\n",
       "      <td>11.375469</td>\n",
       "      <td>0.577654</td>\n",
       "      <td>0.362086</td>\n",
       "      <td>0.458487</td>\n",
       "    </tr>\n",
       "    <tr>\n",
       "      <th>min</th>\n",
       "      <td>4.000000</td>\n",
       "      <td>250.000000</td>\n",
       "      <td>1.000000</td>\n",
       "      <td>1.000000</td>\n",
       "      <td>19.000000</td>\n",
       "      <td>1.000000</td>\n",
       "      <td>1.000000</td>\n",
       "      <td>1.000000</td>\n",
       "    </tr>\n",
       "    <tr>\n",
       "      <th>25%</th>\n",
       "      <td>12.000000</td>\n",
       "      <td>1365.500000</td>\n",
       "      <td>2.000000</td>\n",
       "      <td>2.000000</td>\n",
       "      <td>27.000000</td>\n",
       "      <td>1.000000</td>\n",
       "      <td>1.000000</td>\n",
       "      <td>1.000000</td>\n",
       "    </tr>\n",
       "    <tr>\n",
       "      <th>50%</th>\n",
       "      <td>18.000000</td>\n",
       "      <td>2319.500000</td>\n",
       "      <td>3.000000</td>\n",
       "      <td>3.000000</td>\n",
       "      <td>33.000000</td>\n",
       "      <td>1.000000</td>\n",
       "      <td>1.000000</td>\n",
       "      <td>1.000000</td>\n",
       "    </tr>\n",
       "    <tr>\n",
       "      <th>75%</th>\n",
       "      <td>24.000000</td>\n",
       "      <td>3972.250000</td>\n",
       "      <td>4.000000</td>\n",
       "      <td>4.000000</td>\n",
       "      <td>42.000000</td>\n",
       "      <td>2.000000</td>\n",
       "      <td>1.000000</td>\n",
       "      <td>2.000000</td>\n",
       "    </tr>\n",
       "    <tr>\n",
       "      <th>max</th>\n",
       "      <td>72.000000</td>\n",
       "      <td>18424.000000</td>\n",
       "      <td>4.000000</td>\n",
       "      <td>4.000000</td>\n",
       "      <td>75.000000</td>\n",
       "      <td>4.000000</td>\n",
       "      <td>2.000000</td>\n",
       "      <td>2.000000</td>\n",
       "    </tr>\n",
       "  </tbody>\n",
       "</table>\n",
       "</div>"
      ],
      "text/plain": [
       "                1             4            7            10           12  \\\n",
       "count  1000.000000   1000.000000  1000.000000  1000.000000  1000.000000   \n",
       "mean     20.903000   3271.258000     2.973000     2.845000    35.546000   \n",
       "std      12.058814   2822.736876     1.118715     1.103718    11.375469   \n",
       "min       4.000000    250.000000     1.000000     1.000000    19.000000   \n",
       "25%      12.000000   1365.500000     2.000000     2.000000    27.000000   \n",
       "50%      18.000000   2319.500000     3.000000     3.000000    33.000000   \n",
       "75%      24.000000   3972.250000     4.000000     4.000000    42.000000   \n",
       "max      72.000000  18424.000000     4.000000     4.000000    75.000000   \n",
       "\n",
       "                15           17           20  \n",
       "count  1000.000000  1000.000000  1000.000000  \n",
       "mean      1.407000     1.155000     1.300000  \n",
       "std       0.577654     0.362086     0.458487  \n",
       "min       1.000000     1.000000     1.000000  \n",
       "25%       1.000000     1.000000     1.000000  \n",
       "50%       1.000000     1.000000     1.000000  \n",
       "75%       2.000000     1.000000     2.000000  \n",
       "max       4.000000     2.000000     2.000000  "
      ]
     },
     "execution_count": 3,
     "metadata": {},
     "output_type": "execute_result"
    }
   ],
   "source": [
    "data.describe()"
   ]
  },
  {
   "cell_type": "code",
   "execution_count": 4,
   "id": "2567b255",
   "metadata": {},
   "outputs": [
    {
     "name": "stdout",
     "output_type": "stream",
     "text": [
      "<class 'pandas.core.frame.DataFrame'>\n",
      "RangeIndex: 1000 entries, 0 to 999\n",
      "Data columns (total 21 columns):\n",
      " #   Column  Non-Null Count  Dtype \n",
      "---  ------  --------------  ----- \n",
      " 0   0       1000 non-null   object\n",
      " 1   1       1000 non-null   int64 \n",
      " 2   2       1000 non-null   object\n",
      " 3   3       1000 non-null   object\n",
      " 4   4       1000 non-null   int64 \n",
      " 5   5       1000 non-null   object\n",
      " 6   6       1000 non-null   object\n",
      " 7   7       1000 non-null   int64 \n",
      " 8   8       1000 non-null   object\n",
      " 9   9       1000 non-null   object\n",
      " 10  10      1000 non-null   int64 \n",
      " 11  11      1000 non-null   object\n",
      " 12  12      1000 non-null   int64 \n",
      " 13  13      1000 non-null   object\n",
      " 14  14      1000 non-null   object\n",
      " 15  15      1000 non-null   int64 \n",
      " 16  16      1000 non-null   object\n",
      " 17  17      1000 non-null   int64 \n",
      " 18  18      1000 non-null   object\n",
      " 19  19      1000 non-null   object\n",
      " 20  20      1000 non-null   int64 \n",
      "dtypes: int64(8), object(13)\n",
      "memory usage: 164.2+ KB\n"
     ]
    }
   ],
   "source": [
    "data.info()"
   ]
  },
  {
   "cell_type": "code",
   "execution_count": 5,
   "id": "662b46f5",
   "metadata": {},
   "outputs": [],
   "source": [
    "data.columns = ['Checking Account', 'Duration', 'Credit History', 'Purpose', 'Credit Amount', 'Savings Account', 'Employment Length', 'Installment Rate', 'Personal Status and Sex', 'Other Debtors', 'Residence Since', 'Property', 'Age', 'Other Installments', 'Housing', 'Number of Credits at this bank', 'Job', 'Number of People Liable', 'Telephone', 'Foreign Worker', 'Good/Bad']"
   ]
  },
  {
   "cell_type": "code",
   "execution_count": 6,
   "id": "28823a97",
   "metadata": {},
   "outputs": [
    {
     "name": "stdout",
     "output_type": "stream",
     "text": [
      "<class 'pandas.core.frame.DataFrame'>\n",
      "RangeIndex: 1000 entries, 0 to 999\n",
      "Data columns (total 21 columns):\n",
      " #   Column                          Non-Null Count  Dtype \n",
      "---  ------                          --------------  ----- \n",
      " 0   Checking Account                1000 non-null   object\n",
      " 1   Duration                        1000 non-null   int64 \n",
      " 2   Credit History                  1000 non-null   object\n",
      " 3   Purpose                         1000 non-null   object\n",
      " 4   Credit Amount                   1000 non-null   int64 \n",
      " 5   Savings Account                 1000 non-null   object\n",
      " 6   Employment Length               1000 non-null   object\n",
      " 7   Installment Rate                1000 non-null   int64 \n",
      " 8   Personal Status and Sex         1000 non-null   object\n",
      " 9   Other Debtors                   1000 non-null   object\n",
      " 10  Residence Since                 1000 non-null   int64 \n",
      " 11  Property                        1000 non-null   object\n",
      " 12  Age                             1000 non-null   int64 \n",
      " 13  Other Installments              1000 non-null   object\n",
      " 14  Housing                         1000 non-null   object\n",
      " 15  Number of Credits at this bank  1000 non-null   int64 \n",
      " 16  Job                             1000 non-null   object\n",
      " 17  Number of People Liable         1000 non-null   int64 \n",
      " 18  Telephone                       1000 non-null   object\n",
      " 19  Foreign Worker                  1000 non-null   object\n",
      " 20  Good/Bad                        1000 non-null   int64 \n",
      "dtypes: int64(8), object(13)\n",
      "memory usage: 164.2+ KB\n"
     ]
    }
   ],
   "source": [
    "data.info()"
   ]
  },
  {
   "cell_type": "code",
   "execution_count": 7,
   "id": "34acc1b4",
   "metadata": {},
   "outputs": [
    {
     "data": {
      "text/plain": [
       "Checking Account                  0\n",
       "Duration                          0\n",
       "Credit History                    0\n",
       "Purpose                           0\n",
       "Credit Amount                     0\n",
       "Savings Account                   0\n",
       "Employment Length                 0\n",
       "Installment Rate                  0\n",
       "Personal Status and Sex           0\n",
       "Other Debtors                     0\n",
       "Residence Since                   0\n",
       "Property                          0\n",
       "Age                               0\n",
       "Other Installments                0\n",
       "Housing                           0\n",
       "Number of Credits at this bank    0\n",
       "Job                               0\n",
       "Number of People Liable           0\n",
       "Telephone                         0\n",
       "Foreign Worker                    0\n",
       "Good/Bad                          0\n",
       "dtype: int64"
      ]
     },
     "execution_count": 7,
     "metadata": {},
     "output_type": "execute_result"
    }
   ],
   "source": [
    "data.isnull().sum()"
   ]
  },
  {
   "cell_type": "code",
   "execution_count": 8,
   "id": "4350c4d4",
   "metadata": {},
   "outputs": [],
   "source": [
    "data['Good/Bad']=data['Good/Bad']-1"
   ]
  },
  {
   "cell_type": "markdown",
   "id": "2dcfe228",
   "metadata": {},
   "source": [
    "Attribute 1:  (qualitative) <br />\n",
    "\t       Status of existing checking account<br />\n",
    "               A11 :      ... <    0 DM <br />\n",
    "               A12 : 0 <= ... <  200 DM <br />\n",
    "               A13 :      ... >= 200 DM / salary assignments for at least 1 year <br />\n",
    "               A14 : no checking account <br />\n"
   ]
  },
  {
   "cell_type": "code",
   "execution_count": 9,
   "id": "30ae433f",
   "metadata": {},
   "outputs": [
    {
     "name": "stderr",
     "output_type": "stream",
     "text": [
      "C:\\Users\\DELL\\anaconda3\\lib\\site-packages\\seaborn\\_decorators.py:36: FutureWarning: Pass the following variables as keyword args: x, y. From version 0.12, the only valid positional argument will be `data`, and passing other arguments without an explicit keyword will result in an error or misinterpretation.\n",
      "  warnings.warn(\n"
     ]
    },
    {
     "data": {
      "text/plain": [
       "<AxesSubplot:xlabel='Checking Account', ylabel='Good/Bad'>"
      ]
     },
     "execution_count": 9,
     "metadata": {},
     "output_type": "execute_result"
    },
    {
     "data": {
      "image/png": "[encoded data removed]",
      "text/plain": [
       "<Figure size 432x288 with 1 Axes>"
      ]
     },
     "metadata": {
      "needs_background": "light"
     },
     "output_type": "display_data"
    }
   ],
   "source": [
    "sns.barplot('Checking Account', 'Good/Bad', data=data)"
   ]
  },
  {
   "cell_type": "code",
   "execution_count": 10,
   "id": "4efe91a8",
   "metadata": {},
   "outputs": [
    {
     "data": {
      "text/plain": [
       "<AxesSubplot:xlabel='Checking Account', ylabel='count'>"
      ]
     },
     "execution_count": 10,
     "metadata": {},
     "output_type": "execute_result"
    },
    {
     "data": {
      "image/png": "[encoded data removed]",
      "text/plain": [
       "<Figure size 432x288 with 1 Axes>"
      ]
     },
     "metadata": {
      "needs_background": "light"
     },
     "output_type": "display_data"
    }
   ],
   "source": [
    "sns.countplot(x=\"Checking Account\", hue=\"Good/Bad\", data=data, palette=\"spring\")"
   ]
  },
  {
   "cell_type": "markdown",
   "id": "5dcf4df1",
   "metadata": {},
   "source": [
    "Attribute 2:  (numerical) <br/>\n",
    "\t      Duration in month\n"
   ]
  },
  {
   "cell_type": "code",
   "execution_count": 11,
   "id": "39ea4d24",
   "metadata": {},
   "outputs": [
    {
     "data": {
      "text/plain": [
       "<AxesSubplot:xlabel='Duration', ylabel='count'>"
      ]
     },
     "execution_count": 11,
     "metadata": {},
     "output_type": "execute_result"
    },
    {
     "data": {
      "image/png": "[encoded data removed]",
      "text/plain": [
       "<Figure size 842.4x595.44 with 1 Axes>"
      ]
     },
     "metadata": {},
     "output_type": "display_data"
    }
   ],
   "source": [
    "sns.set(rc={'figure.figsize':(11.7,8.27)})\n",
    "sns.countplot(x=\"Duration\", hue=\"Good/Bad\", data=data, palette=\"spring\")"
   ]
  },
  {
   "cell_type": "code",
   "execution_count": 12,
   "id": "42b12199",
   "metadata": {},
   "outputs": [
    {
     "data": {
      "text/plain": [
       "(array([171., 262., 337.,  57.,  86.,  17.,  54.,   2.,  13.,   1.]),\n",
       " array([ 4. , 10.8, 17.6, 24.4, 31.2, 38. , 44.8, 51.6, 58.4, 65.2, 72. ]),\n",
       " <BarContainer object of 10 artists>)"
      ]
     },
     "execution_count": 12,
     "metadata": {},
     "output_type": "execute_result"
    },
    {
     "data": {
      "image/png": "[encoded data removed]",
      "text/plain": [
       "<Figure size 842.4x595.44 with 1 Axes>"
      ]
     },
     "metadata": {},
     "output_type": "display_data"
    }
   ],
   "source": [
    "import matplotlib.pyplot as plt\n",
    "plt.hist('Duration', data=data, bins=10)"
   ]
  },
  {
   "cell_type": "code",
   "execution_count": 13,
   "id": "daf15aaa",
   "metadata": {},
   "outputs": [],
   "source": [
    "data['Duration']= (data['Duration']/10.0).astype(int)"
   ]
  },
  {
   "cell_type": "markdown",
   "id": "393e805a",
   "metadata": {},
   "source": [
    "Converted duration into bins of 10 since the values of duration ranged from 4 to 72 months; with some values having very few or no entries corresponding to them. Converting to bins of 10, will help in efficient training of the model"
   ]
  },
  {
   "cell_type": "code",
   "execution_count": 14,
   "id": "2de60b5a",
   "metadata": {},
   "outputs": [
    {
     "data": {
      "text/plain": [
       "<AxesSubplot:xlabel='Duration', ylabel='count'>"
      ]
     },
     "execution_count": 14,
     "metadata": {},
     "output_type": "execute_result"
    },
    {
     "data": {
      "image/png": "[encoded data removed]",
      "text/plain": [
       "<Figure size 842.4x595.44 with 1 Axes>"
      ]
     },
     "metadata": {},
     "output_type": "display_data"
    }
   ],
   "source": [
    "sns.set(rc={'figure.figsize':(11.7,8.27)})\n",
    "sns.countplot(x=\"Duration\", hue=\"Good/Bad\", data=data, palette=\"spring\")"
   ]
  },
  {
   "cell_type": "code",
   "execution_count": 15,
   "id": "10eb5544",
   "metadata": {},
   "outputs": [
    {
     "name": "stderr",
     "output_type": "stream",
     "text": [
      "C:\\Users\\DELL\\anaconda3\\lib\\site-packages\\seaborn\\_decorators.py:36: FutureWarning: Pass the following variables as keyword args: x, y. From version 0.12, the only valid positional argument will be `data`, and passing other arguments without an explicit keyword will result in an error or misinterpretation.\n",
      "  warnings.warn(\n"
     ]
    },
    {
     "data": {
      "text/plain": [
       "<AxesSubplot:xlabel='Duration', ylabel='Good/Bad'>"
      ]
     },
     "execution_count": 15,
     "metadata": {},
     "output_type": "execute_result"
    },
    {
     "data": {
      "image/png": "[encoded data removed]",
      "text/plain": [
       "<Figure size 842.4x595.44 with 1 Axes>"
      ]
     },
     "metadata": {},
     "output_type": "display_data"
    }
   ],
   "source": [
    "sns.barplot('Duration', 'Good/Bad', data=data)"
   ]
  },
  {
   "cell_type": "code",
   "execution_count": 16,
   "id": "5172041f",
   "metadata": {},
   "outputs": [
    {
     "name": "stderr",
     "output_type": "stream",
     "text": [
      "C:\\Users\\DELL\\anaconda3\\lib\\site-packages\\seaborn\\_decorators.py:36: FutureWarning: Pass the following variables as keyword args: x, y. From version 0.12, the only valid positional argument will be `data`, and passing other arguments without an explicit keyword will result in an error or misinterpretation.\n",
      "  warnings.warn(\n"
     ]
    },
    {
     "data": {
      "text/plain": [
       "<AxesSubplot:xlabel='Duration', ylabel='Good/Bad'>"
      ]
     },
     "execution_count": 16,
     "metadata": {},
     "output_type": "execute_result"
    },
    {
     "data": {
      "image/png": "[encoded data removed]",
      "text/plain": [
       "<Figure size 842.4x595.44 with 1 Axes>"
      ]
     },
     "metadata": {},
     "output_type": "display_data"
    }
   ],
   "source": [
    "sns.set(rc={'figure.figsize':(11.7,8.27)})\n",
    "sns.barplot('Duration', 'Good/Bad', data=data)"
   ]
  },
  {
   "cell_type": "markdown",
   "id": "0c3cdc4c",
   "metadata": {},
   "source": [
    "Attribute 3:  (qualitative) <br/>\n",
    "\t      Credit history <br/>\n",
    "              A30 : no credits taken/ \n",
    "                    all credits paid back duly <br/>\n",
    "              A31 : all credits at this bank paid back duly <br/>\n",
    "\t      A32 : existing credits paid back duly till now <br/>\n",
    "              A33 : delay in paying off in the past <br/>\n",
    "\t      A34 : critical account/ \n",
    "\t\t    other credits existing (not at this bank) <br/>\n"
   ]
  },
  {
   "cell_type": "code",
   "execution_count": 17,
   "id": "8c1ecb74",
   "metadata": {},
   "outputs": [
    {
     "name": "stderr",
     "output_type": "stream",
     "text": [
      "C:\\Users\\DELL\\anaconda3\\lib\\site-packages\\seaborn\\_decorators.py:36: FutureWarning: Pass the following variables as keyword args: x, y. From version 0.12, the only valid positional argument will be `data`, and passing other arguments without an explicit keyword will result in an error or misinterpretation.\n",
      "  warnings.warn(\n"
     ]
    },
    {
     "data": {
      "text/plain": [
       "<AxesSubplot:xlabel='Credit History', ylabel='Good/Bad'>"
      ]
     },
     "execution_count": 17,
     "metadata": {},
     "output_type": "execute_result"
    },
    {
     "data": {
      "image/png": "[encoded data removed]",
      "text/plain": [
       "<Figure size 842.4x595.44 with 1 Axes>"
      ]
     },
     "metadata": {},
     "output_type": "display_data"
    }
   ],
   "source": [
    "sns.barplot('Credit History', 'Good/Bad', data=data)"
   ]
  },
  {
   "cell_type": "code",
   "execution_count": 18,
   "id": "093a90bb",
   "metadata": {},
   "outputs": [
    {
     "data": {
      "text/plain": [
       "<AxesSubplot:xlabel='Credit History', ylabel='count'>"
      ]
     },
     "execution_count": 18,
     "metadata": {},
     "output_type": "execute_result"
    },
    {
     "data": {
      "image/png": "[encoded data removed]",
      "text/plain": [
       "<Figure size 842.4x595.44 with 1 Axes>"
      ]
     },
     "metadata": {},
     "output_type": "display_data"
    }
   ],
   "source": [
    "sns.countplot(x=\"Credit History\", hue=\"Good/Bad\", data=data, palette=\"spring\")"
   ]
  },
  {
   "cell_type": "markdown",
   "id": "d86cf936",
   "metadata": {},
   "source": [
    "Attribute 4:  (qualitative) <br/>\n",
    "\t      Purpose <br/>\n",
    "\t      A40 : car (new) <br/>\n",
    "\t      A41 : car (used) <br/>\n",
    "\t      A42 : furniture/equipment <br/>\n",
    "\t      A43 : radio/television <br/>\n",
    "\t      A44 : domestic appliances <br/>\n",
    "\t      A45 : repairs <br/>\n",
    "\t      A46 : education <br/>\n",
    "\t      A47 : (vacation - does not exist?) <br/>\n",
    "\t      A48 : retraining <br/>\n",
    "\t      A49 : business <br/>\n",
    "\t      A410 : others <br/>\n"
   ]
  },
  {
   "cell_type": "code",
   "execution_count": 19,
   "id": "dfe02182",
   "metadata": {},
   "outputs": [
    {
     "name": "stderr",
     "output_type": "stream",
     "text": [
      "C:\\Users\\DELL\\anaconda3\\lib\\site-packages\\seaborn\\_decorators.py:36: FutureWarning: Pass the following variables as keyword args: x, y. From version 0.12, the only valid positional argument will be `data`, and passing other arguments without an explicit keyword will result in an error or misinterpretation.\n",
      "  warnings.warn(\n"
     ]
    },
    {
     "data": {
      "text/plain": [
       "<AxesSubplot:xlabel='Purpose', ylabel='Good/Bad'>"
      ]
     },
     "execution_count": 19,
     "metadata": {},
     "output_type": "execute_result"
    },
    {
     "data": {
      "image/png": "[encoded data removed]",
      "text/plain": [
       "<Figure size 842.4x595.44 with 1 Axes>"
      ]
     },
     "metadata": {},
     "output_type": "display_data"
    }
   ],
   "source": [
    "sns.barplot('Purpose', 'Good/Bad', data=data)"
   ]
  },
  {
   "cell_type": "markdown",
   "id": "34d5205f",
   "metadata": {},
   "source": [
    "Attribute 5:  (numerical)\n",
    "\t      Credit amount\n",
    "\n"
   ]
  },
  {
   "cell_type": "code",
   "execution_count": 20,
   "id": "a6663bcf",
   "metadata": {},
   "outputs": [
    {
     "name": "stderr",
     "output_type": "stream",
     "text": [
      "C:\\Users\\DELL\\anaconda3\\lib\\site-packages\\seaborn\\_decorators.py:36: FutureWarning: Pass the following variables as keyword args: x, y. From version 0.12, the only valid positional argument will be `data`, and passing other arguments without an explicit keyword will result in an error or misinterpretation.\n",
      "  warnings.warn(\n"
     ]
    },
    {
     "data": {
      "text/plain": [
       "<AxesSubplot:xlabel='Good/Bad', ylabel='Credit Amount'>"
      ]
     },
     "execution_count": 20,
     "metadata": {},
     "output_type": "execute_result"
    },
    {
     "data": {
      "image/png": "[encoded data removed]",
      "text/plain": [
       "<Figure size 360x360 with 1 Axes>"
      ]
     },
     "metadata": {},
     "output_type": "display_data"
    }
   ],
   "source": [
    "sns.set(rc={'figure.figsize':(5,5)})\n",
    "sns.barplot('Good/Bad' , 'Credit Amount',data=data)"
   ]
  },
  {
   "cell_type": "markdown",
   "id": "8aa0184b",
   "metadata": {},
   "source": [
    "Attibute 6:  (qualitative) <br/>\n",
    "\t      Savings account/bonds  <br/>\n",
    "\t      A61 :          ... <  100 DM  <br/>\n",
    "\t      A62 :   100 <= ... <  500 DM  <br/>\n",
    "\t      A63 :   500 <= ... < 1000 DM  <br/>\n",
    "\t      A64 :          .. >= 1000 DM  <br/>\n",
    "              A65 :   unknown/ no savings account  <br/>\n",
    "\n"
   ]
  },
  {
   "cell_type": "code",
   "execution_count": 21,
   "id": "121e3962",
   "metadata": {},
   "outputs": [
    {
     "name": "stderr",
     "output_type": "stream",
     "text": [
      "C:\\Users\\DELL\\anaconda3\\lib\\site-packages\\seaborn\\_decorators.py:36: FutureWarning: Pass the following variables as keyword args: x, y. From version 0.12, the only valid positional argument will be `data`, and passing other arguments without an explicit keyword will result in an error or misinterpretation.\n",
      "  warnings.warn(\n"
     ]
    },
    {
     "data": {
      "text/plain": [
       "<AxesSubplot:xlabel='Savings Account', ylabel='Good/Bad'>"
      ]
     },
     "execution_count": 21,
     "metadata": {},
     "output_type": "execute_result"
    },
    {
     "data": {
      "image/png": "[encoded data removed]",
      "text/plain": [
       "<Figure size 360x360 with 1 Axes>"
      ]
     },
     "metadata": {},
     "output_type": "display_data"
    }
   ],
   "source": [
    "sns.barplot('Savings Account', 'Good/Bad', data=data)"
   ]
  },
  {
   "cell_type": "markdown",
   "id": "067b8c4d",
   "metadata": {},
   "source": [
    "Attribute 7:  (qualitative) <br/> \n",
    "    Present employment since <br/> \n",
    "    A71 : unemployed <br/> \n",
    "          A72 :       ... < 1 year <br/> \n",
    "A73 : 1  <= ... < 4 years  <br/> \n",
    "  A74 : 4  <= ... < 7 years <br/> \n",
    "   A75 :       .. >= 7 years <br/> \n"
   ]
  },
  {
   "cell_type": "code",
   "execution_count": 22,
   "id": "4686a96c",
   "metadata": {
    "scrolled": true
   },
   "outputs": [
    {
     "name": "stderr",
     "output_type": "stream",
     "text": [
      "C:\\Users\\DELL\\anaconda3\\lib\\site-packages\\seaborn\\_decorators.py:36: FutureWarning: Pass the following variables as keyword args: x, y. From version 0.12, the only valid positional argument will be `data`, and passing other arguments without an explicit keyword will result in an error or misinterpretation.\n",
      "  warnings.warn(\n"
     ]
    },
    {
     "data": {
      "text/plain": [
       "<AxesSubplot:xlabel='Employment Length', ylabel='Good/Bad'>"
      ]
     },
     "execution_count": 22,
     "metadata": {},
     "output_type": "execute_result"
    },
    {
     "data": {
      "image/png": "[encoded data removed]",
      "text/plain": [
       "<Figure size 360x360 with 1 Axes>"
      ]
     },
     "metadata": {},
     "output_type": "display_data"
    }
   ],
   "source": [
    "sns.barplot('Employment Length', 'Good/Bad', data=data)"
   ]
  },
  {
   "cell_type": "markdown",
   "id": "54fcb72b",
   "metadata": {},
   "source": [
    "\"Employment Length\" attribute was dropped "
   ]
  },
  {
   "cell_type": "markdown",
   "id": "041b80ed",
   "metadata": {},
   "source": [
    "Attribute 8:  (numerical)<br/>\n",
    "\t      Installment rate in percentage of disposable income\n"
   ]
  },
  {
   "cell_type": "code",
   "execution_count": 23,
   "id": "f3713bd9",
   "metadata": {},
   "outputs": [
    {
     "name": "stderr",
     "output_type": "stream",
     "text": [
      "C:\\Users\\DELL\\anaconda3\\lib\\site-packages\\seaborn\\_decorators.py:36: FutureWarning: Pass the following variables as keyword args: x, y. From version 0.12, the only valid positional argument will be `data`, and passing other arguments without an explicit keyword will result in an error or misinterpretation.\n",
      "  warnings.warn(\n"
     ]
    },
    {
     "data": {
      "text/plain": [
       "<AxesSubplot:xlabel='Good/Bad', ylabel='Installment Rate'>"
      ]
     },
     "execution_count": 23,
     "metadata": {},
     "output_type": "execute_result"
    },
    {
     "data": {
      "image/png": "[encoded data removed]",
      "text/plain": [
       "<Figure size 360x360 with 1 Axes>"
      ]
     },
     "metadata": {},
     "output_type": "display_data"
    }
   ],
   "source": [
    "sns.barplot('Good/Bad' , 'Installment Rate',data=data)"
   ]
  },
  {
   "cell_type": "code",
   "execution_count": 24,
   "id": "31fa95ad",
   "metadata": {},
   "outputs": [
    {
     "name": "stderr",
     "output_type": "stream",
     "text": [
      "C:\\Users\\DELL\\anaconda3\\lib\\site-packages\\seaborn\\_decorators.py:36: FutureWarning: Pass the following variables as keyword args: x, y. From version 0.12, the only valid positional argument will be `data`, and passing other arguments without an explicit keyword will result in an error or misinterpretation.\n",
      "  warnings.warn(\n"
     ]
    },
    {
     "data": {
      "text/plain": [
       "<AxesSubplot:xlabel='Installment Rate', ylabel='Good/Bad'>"
      ]
     },
     "execution_count": 24,
     "metadata": {},
     "output_type": "execute_result"
    },
    {
     "data": {
      "image/png": "[encoded data removed]",
      "text/plain": [
       "<Figure size 360x360 with 1 Axes>"
      ]
     },
     "metadata": {},
     "output_type": "display_data"
    }
   ],
   "source": [
    "sns.barplot('Installment Rate', 'Good/Bad', data=data)"
   ]
  },
  {
   "cell_type": "code",
   "execution_count": 25,
   "id": "52e59190",
   "metadata": {},
   "outputs": [
    {
     "data": {
      "text/plain": [
       "<AxesSubplot:xlabel='Installment Rate', ylabel='count'>"
      ]
     },
     "execution_count": 25,
     "metadata": {},
     "output_type": "execute_result"
    },
    {
     "data": {
      "image/png": "[encoded data removed]",
      "text/plain": [
       "<Figure size 360x360 with 1 Axes>"
      ]
     },
     "metadata": {},
     "output_type": "display_data"
    }
   ],
   "source": [
    "sns.countplot(x=\"Installment Rate\", hue=\"Good/Bad\", data=data, palette=\"spring\")"
   ]
  },
  {
   "cell_type": "code",
   "execution_count": 26,
   "id": "2be441bf",
   "metadata": {},
   "outputs": [
    {
     "data": {
      "text/plain": [
       "4    476\n",
       "2    231\n",
       "3    157\n",
       "1    136\n",
       "Name: Installment Rate, dtype: int64"
      ]
     },
     "execution_count": 26,
     "metadata": {},
     "output_type": "execute_result"
    }
   ],
   "source": [
    "data['Installment Rate'].value_counts()"
   ]
  },
  {
   "cell_type": "markdown",
   "id": "c39d5971",
   "metadata": {},
   "source": [
    "\"Installment Rate\" attribute was dropped since the results don't seem to be dependent on the rate"
   ]
  },
  {
   "cell_type": "markdown",
   "id": "d88b5dd4",
   "metadata": {},
   "source": [
    "Attribute 9:  (qualitative) <br/>\n",
    "     Personal status and sex<br/>\n",
    "         A91 : male   : divorced/separated <br/>\n",
    "         A92 : female : divorced/separated/married <br/>\n",
    "         A93 : male   : single <br/>\n",
    "         A94 : male   : married/widowed <br/>\n",
    "         A95 : female : single <br/>\n"
   ]
  },
  {
   "cell_type": "code",
   "execution_count": 27,
   "id": "f5c53d4f",
   "metadata": {},
   "outputs": [
    {
     "name": "stderr",
     "output_type": "stream",
     "text": [
      "C:\\Users\\DELL\\anaconda3\\lib\\site-packages\\seaborn\\_decorators.py:36: FutureWarning: Pass the following variables as keyword args: x, y. From version 0.12, the only valid positional argument will be `data`, and passing other arguments without an explicit keyword will result in an error or misinterpretation.\n",
      "  warnings.warn(\n"
     ]
    },
    {
     "data": {
      "text/plain": [
       "<AxesSubplot:xlabel='Personal Status and Sex', ylabel='Good/Bad'>"
      ]
     },
     "execution_count": 27,
     "metadata": {},
     "output_type": "execute_result"
    },
    {
     "data": {
      "image/png": "[encoded data removed]",
      "text/plain": [
       "<Figure size 360x360 with 1 Axes>"
      ]
     },
     "metadata": {},
     "output_type": "display_data"
    }
   ],
   "source": [
    "sns.set(rc={'figure.figsize':(5,5)})\n",
    "sns.barplot('Personal Status and Sex', 'Good/Bad', data=data)"
   ]
  },
  {
   "cell_type": "markdown",
   "id": "0a33662b",
   "metadata": {},
   "source": [
    "Attribute 10: (qualitative) <br/>\n",
    "\t      Other debtors / guarantors <br/>\n",
    "\t      A101 : none <br/>\n",
    "\t      A102 : co-applicant <br/>\n",
    "\t      A103 : guarantor <br/>\n"
   ]
  },
  {
   "cell_type": "code",
   "execution_count": 28,
   "id": "3b38a6bc",
   "metadata": {},
   "outputs": [
    {
     "name": "stderr",
     "output_type": "stream",
     "text": [
      "C:\\Users\\DELL\\anaconda3\\lib\\site-packages\\seaborn\\_decorators.py:36: FutureWarning: Pass the following variables as keyword args: x, y. From version 0.12, the only valid positional argument will be `data`, and passing other arguments without an explicit keyword will result in an error or misinterpretation.\n",
      "  warnings.warn(\n"
     ]
    },
    {
     "data": {
      "text/plain": [
       "<AxesSubplot:xlabel='Other Debtors', ylabel='Good/Bad'>"
      ]
     },
     "execution_count": 28,
     "metadata": {},
     "output_type": "execute_result"
    },
    {
     "data": {
      "image/png": "[encoded data removed]",
      "text/plain": [
       "<Figure size 360x360 with 1 Axes>"
      ]
     },
     "metadata": {},
     "output_type": "display_data"
    }
   ],
   "source": [
    "sns.barplot('Other Debtors', 'Good/Bad', data=data)"
   ]
  },
  {
   "cell_type": "markdown",
   "id": "25e71310",
   "metadata": {},
   "source": [
    "Attribute 11: (numerical) <br/>\n",
    "\t      Present residence since\n"
   ]
  },
  {
   "cell_type": "code",
   "execution_count": 29,
   "id": "3e8b923f",
   "metadata": {},
   "outputs": [
    {
     "data": {
      "text/plain": [
       "4    413\n",
       "2    308\n",
       "3    149\n",
       "1    130\n",
       "Name: Residence Since, dtype: int64"
      ]
     },
     "execution_count": 29,
     "metadata": {},
     "output_type": "execute_result"
    }
   ],
   "source": [
    "data['Residence Since'].value_counts()"
   ]
  },
  {
   "cell_type": "code",
   "execution_count": 30,
   "id": "d5ce7bc0",
   "metadata": {},
   "outputs": [
    {
     "name": "stderr",
     "output_type": "stream",
     "text": [
      "C:\\Users\\DELL\\anaconda3\\lib\\site-packages\\seaborn\\_decorators.py:36: FutureWarning: Pass the following variables as keyword args: x, y. From version 0.12, the only valid positional argument will be `data`, and passing other arguments without an explicit keyword will result in an error or misinterpretation.\n",
      "  warnings.warn(\n"
     ]
    },
    {
     "data": {
      "text/plain": [
       "<AxesSubplot:xlabel='Residence Since', ylabel='Good/Bad'>"
      ]
     },
     "execution_count": 30,
     "metadata": {},
     "output_type": "execute_result"
    },
    {
     "data": {
      "image/png": "[encoded data removed]",
      "text/plain": [
       "<Figure size 360x360 with 1 Axes>"
      ]
     },
     "metadata": {},
     "output_type": "display_data"
    }
   ],
   "source": [
    "sns.barplot('Residence Since', 'Good/Bad', data=data)"
   ]
  },
  {
   "cell_type": "markdown",
   "id": "849763b2",
   "metadata": {},
   "source": [
    "Attribute 12: (qualitative) <br/>\n",
    "\t      Property<br/>\n",
    "\t      A121 : real estate<br/>\n",
    "\t      A122 : if not A121 : building society savings agreement/\n",
    "\t\t\t\t   life insurance<br/>\n",
    "              A123 : if not A121/A122 : car or other, not in attribute 6<br/>\n",
    "\t      A124 : unknown / no property\n"
   ]
  },
  {
   "cell_type": "code",
   "execution_count": 31,
   "id": "63818aea",
   "metadata": {},
   "outputs": [
    {
     "name": "stderr",
     "output_type": "stream",
     "text": [
      "C:\\Users\\DELL\\anaconda3\\lib\\site-packages\\seaborn\\_decorators.py:36: FutureWarning: Pass the following variables as keyword args: x, y. From version 0.12, the only valid positional argument will be `data`, and passing other arguments without an explicit keyword will result in an error or misinterpretation.\n",
      "  warnings.warn(\n"
     ]
    },
    {
     "data": {
      "text/plain": [
       "<AxesSubplot:xlabel='Property', ylabel='Good/Bad'>"
      ]
     },
     "execution_count": 31,
     "metadata": {},
     "output_type": "execute_result"
    },
    {
     "data": {
      "image/png": "[encoded data removed]",
      "text/plain": [
       "<Figure size 360x360 with 1 Axes>"
      ]
     },
     "metadata": {},
     "output_type": "display_data"
    }
   ],
   "source": [
    "sns.barplot('Property', 'Good/Bad', data=data)"
   ]
  },
  {
   "cell_type": "markdown",
   "id": "f57ecc8d",
   "metadata": {},
   "source": [
    "Attribute 13: (numerical) <br/>\n",
    "\t      Age in years\n"
   ]
  },
  {
   "cell_type": "code",
   "execution_count": 32,
   "id": "b8f6522a",
   "metadata": {},
   "outputs": [
    {
     "name": "stderr",
     "output_type": "stream",
     "text": [
      "C:\\Users\\DELL\\anaconda3\\lib\\site-packages\\seaborn\\_decorators.py:36: FutureWarning: Pass the following variables as keyword args: x, y. From version 0.12, the only valid positional argument will be `data`, and passing other arguments without an explicit keyword will result in an error or misinterpretation.\n",
      "  warnings.warn(\n"
     ]
    },
    {
     "data": {
      "text/plain": [
       "<AxesSubplot:xlabel='Age', ylabel='Good/Bad'>"
      ]
     },
     "execution_count": 32,
     "metadata": {},
     "output_type": "execute_result"
    },
    {
     "data": {
      "image/png": "[encoded data removed]",
      "text/plain": [
       "<Figure size 842.4x595.44 with 1 Axes>"
      ]
     },
     "metadata": {},
     "output_type": "display_data"
    }
   ],
   "source": [
    "sns.set(rc={'figure.figsize':(11.7,8.27)})\n",
    "sns.barplot('Age', 'Good/Bad', data=data)"
   ]
  },
  {
   "cell_type": "code",
   "execution_count": 33,
   "id": "8c3aa589",
   "metadata": {},
   "outputs": [
    {
     "name": "stderr",
     "output_type": "stream",
     "text": [
      "C:\\Users\\DELL\\anaconda3\\lib\\site-packages\\seaborn\\_decorators.py:36: FutureWarning: Pass the following variables as keyword args: x, y. From version 0.12, the only valid positional argument will be `data`, and passing other arguments without an explicit keyword will result in an error or misinterpretation.\n",
      "  warnings.warn(\n"
     ]
    },
    {
     "data": {
      "text/plain": [
       "<AxesSubplot:xlabel='Age', ylabel='Good/Bad'>"
      ]
     },
     "execution_count": 33,
     "metadata": {},
     "output_type": "execute_result"
    },
    {
     "data": {
      "image/png": "[encoded data removed]",
      "text/plain": [
       "<Figure size 842.4x595.44 with 1 Axes>"
      ]
     },
     "metadata": {},
     "output_type": "display_data"
    }
   ],
   "source": [
    "data['Age']= (data['Age']/15.0).astype(int)\n",
    "sns.barplot('Age', 'Good/Bad', data=data)"
   ]
  },
  {
   "cell_type": "markdown",
   "id": "6983ec5d",
   "metadata": {},
   "source": [
    "Attribute 14: (qualitative) <br/>\n",
    "\t      Other installment plans <br/>\n",
    "\t      A141 : bank <br/>\n",
    "\t      A142 : stores <br/>\n",
    "\t      A143 : none\n"
   ]
  },
  {
   "cell_type": "code",
   "execution_count": 34,
   "id": "19a37caf",
   "metadata": {},
   "outputs": [
    {
     "name": "stderr",
     "output_type": "stream",
     "text": [
      "C:\\Users\\DELL\\anaconda3\\lib\\site-packages\\seaborn\\_decorators.py:36: FutureWarning: Pass the following variables as keyword args: x, y. From version 0.12, the only valid positional argument will be `data`, and passing other arguments without an explicit keyword will result in an error or misinterpretation.\n",
      "  warnings.warn(\n"
     ]
    },
    {
     "data": {
      "text/plain": [
       "<AxesSubplot:xlabel='Other Installments', ylabel='Good/Bad'>"
      ]
     },
     "execution_count": 34,
     "metadata": {},
     "output_type": "execute_result"
    },
    {
     "data": {
      "image/png": "[encoded data removed]",
      "text/plain": [
       "<Figure size 360x360 with 1 Axes>"
      ]
     },
     "metadata": {},
     "output_type": "display_data"
    }
   ],
   "source": [
    "sns.set(rc={'figure.figsize':(5,5)})\n",
    "sns.barplot('Other Installments', 'Good/Bad', data=data)"
   ]
  },
  {
   "cell_type": "markdown",
   "id": "a0298759",
   "metadata": {},
   "source": [
    "Attribute 15: (qualitative) <br/>\n",
    "\t      Housing<br/>\n",
    "\t      A151 : rent <br/>\n",
    "\t      A152 : own <br/>\n",
    "\t      A153 : for free\n"
   ]
  },
  {
   "cell_type": "code",
   "execution_count": 35,
   "id": "71fa0da3",
   "metadata": {},
   "outputs": [
    {
     "name": "stderr",
     "output_type": "stream",
     "text": [
      "C:\\Users\\DELL\\anaconda3\\lib\\site-packages\\seaborn\\_decorators.py:36: FutureWarning: Pass the following variables as keyword args: x, y. From version 0.12, the only valid positional argument will be `data`, and passing other arguments without an explicit keyword will result in an error or misinterpretation.\n",
      "  warnings.warn(\n"
     ]
    },
    {
     "data": {
      "text/plain": [
       "<AxesSubplot:xlabel='Housing', ylabel='Good/Bad'>"
      ]
     },
     "execution_count": 35,
     "metadata": {},
     "output_type": "execute_result"
    },
    {
     "data": {
      "image/png": "[encoded data removed]",
      "text/plain": [
       "<Figure size 360x360 with 1 Axes>"
      ]
     },
     "metadata": {},
     "output_type": "display_data"
    }
   ],
   "source": [
    "sns.set(rc={'figure.figsize':(5,5)})\n",
    "sns.barplot('Housing', 'Good/Bad', data=data)"
   ]
  },
  {
   "cell_type": "markdown",
   "id": "a7f77887",
   "metadata": {},
   "source": [
    "Attribute 16: (numerical)<br/>\n",
    "              Number of existing credits at this bank"
   ]
  },
  {
   "cell_type": "code",
   "execution_count": 36,
   "id": "e7479d59",
   "metadata": {},
   "outputs": [
    {
     "data": {
      "text/plain": [
       "1    633\n",
       "2    333\n",
       "3     28\n",
       "4      6\n",
       "Name: Number of Credits at this bank, dtype: int64"
      ]
     },
     "execution_count": 36,
     "metadata": {},
     "output_type": "execute_result"
    }
   ],
   "source": [
    "data['Number of Credits at this bank'].value_counts()"
   ]
  },
  {
   "cell_type": "code",
   "execution_count": 37,
   "id": "ae958701",
   "metadata": {},
   "outputs": [
    {
     "name": "stderr",
     "output_type": "stream",
     "text": [
      "C:\\Users\\DELL\\anaconda3\\lib\\site-packages\\seaborn\\_decorators.py:36: FutureWarning: Pass the following variables as keyword args: x, y. From version 0.12, the only valid positional argument will be `data`, and passing other arguments without an explicit keyword will result in an error or misinterpretation.\n",
      "  warnings.warn(\n"
     ]
    },
    {
     "data": {
      "text/plain": [
       "<AxesSubplot:xlabel='Number of Credits at this bank', ylabel='Good/Bad'>"
      ]
     },
     "execution_count": 37,
     "metadata": {},
     "output_type": "execute_result"
    },
    {
     "data": {
      "image/png": "[encoded data removed]",
      "text/plain": [
       "<Figure size 360x360 with 1 Axes>"
      ]
     },
     "metadata": {},
     "output_type": "display_data"
    }
   ],
   "source": [
    "sns.barplot('Number of Credits at this bank', 'Good/Bad', data=data)"
   ]
  },
  {
   "cell_type": "code",
   "execution_count": 38,
   "id": "301eb360",
   "metadata": {
    "scrolled": false
   },
   "outputs": [
    {
     "data": {
      "text/plain": [
       "<AxesSubplot:xlabel='Number of Credits at this bank', ylabel='count'>"
      ]
     },
     "execution_count": 38,
     "metadata": {},
     "output_type": "execute_result"
    },
    {
     "data": {
      "image/png": "[encoded data removed]",
      "text/plain": [
       "<Figure size 360x360 with 1 Axes>"
      ]
     },
     "metadata": {},
     "output_type": "display_data"
    }
   ],
   "source": [
    "sns.countplot(x=\"Number of Credits at this bank\", hue=\"Good/Bad\", data=data, palette=\"spring\")"
   ]
  },
  {
   "cell_type": "markdown",
   "id": "ddf2a1e7",
   "metadata": {},
   "source": [
    "Attribute 17: (qualitative) <br/>\n",
    "\t      Job <br/>\n",
    "\t      A171 : unemployed/ unskilled  - non-resident <br/>\n",
    "\t      A172 : unskilled - resident<br/>\n",
    "\t      A173 : skilled employee / official<br/>\n",
    "\t      A174 : management/ self-employed/\n",
    "\t\t     highly qualified employee/ officer"
   ]
  },
  {
   "cell_type": "code",
   "execution_count": 39,
   "id": "be034af8",
   "metadata": {},
   "outputs": [
    {
     "name": "stderr",
     "output_type": "stream",
     "text": [
      "C:\\Users\\DELL\\anaconda3\\lib\\site-packages\\seaborn\\_decorators.py:36: FutureWarning: Pass the following variables as keyword args: x, y. From version 0.12, the only valid positional argument will be `data`, and passing other arguments without an explicit keyword will result in an error or misinterpretation.\n",
      "  warnings.warn(\n"
     ]
    },
    {
     "data": {
      "text/plain": [
       "<AxesSubplot:xlabel='Job', ylabel='Good/Bad'>"
      ]
     },
     "execution_count": 39,
     "metadata": {},
     "output_type": "execute_result"
    },
    {
     "data": {
      "image/png": "[encoded data removed]",
      "text/plain": [
       "<Figure size 360x360 with 1 Axes>"
      ]
     },
     "metadata": {},
     "output_type": "display_data"
    }
   ],
   "source": [
    "sns.barplot('Job', 'Good/Bad', data=data)"
   ]
  },
  {
   "cell_type": "code",
   "execution_count": 40,
   "id": "7b1fd3d0",
   "metadata": {},
   "outputs": [
    {
     "data": {
      "text/plain": [
       "<AxesSubplot:xlabel='Job', ylabel='count'>"
      ]
     },
     "execution_count": 40,
     "metadata": {},
     "output_type": "execute_result"
    },
    {
     "data": {
      "image/png": "[encoded data removed]",
      "text/plain": [
       "<Figure size 360x360 with 1 Axes>"
      ]
     },
     "metadata": {},
     "output_type": "display_data"
    }
   ],
   "source": [
    "sns.countplot(x=\"Job\", hue=\"Good/Bad\", data=data, palette=\"spring\")"
   ]
  },
  {
   "cell_type": "markdown",
   "id": "d7c9804f",
   "metadata": {},
   "source": [
    "Attribute 18: (numerical) <br/>\n",
    "\t      Number of people being liable to provide maintenance for\n"
   ]
  },
  {
   "cell_type": "code",
   "execution_count": 41,
   "id": "4ea987ed",
   "metadata": {},
   "outputs": [
    {
     "data": {
      "text/plain": [
       "<AxesSubplot:xlabel='Number of People Liable', ylabel='count'>"
      ]
     },
     "execution_count": 41,
     "metadata": {},
     "output_type": "execute_result"
    },
    {
     "data": {
      "image/png": "[encoded data removed]",
      "text/plain": [
       "<Figure size 360x360 with 1 Axes>"
      ]
     },
     "metadata": {},
     "output_type": "display_data"
    }
   ],
   "source": [
    "sns.countplot(x=\"Number of People Liable\", hue=\"Good/Bad\", data=data, palette=\"spring\")"
   ]
  },
  {
   "cell_type": "code",
   "execution_count": 42,
   "id": "b3777175",
   "metadata": {},
   "outputs": [
    {
     "name": "stderr",
     "output_type": "stream",
     "text": [
      "C:\\Users\\DELL\\anaconda3\\lib\\site-packages\\seaborn\\_decorators.py:36: FutureWarning: Pass the following variables as keyword args: x, y. From version 0.12, the only valid positional argument will be `data`, and passing other arguments without an explicit keyword will result in an error or misinterpretation.\n",
      "  warnings.warn(\n"
     ]
    },
    {
     "data": {
      "text/plain": [
       "<AxesSubplot:xlabel='Number of People Liable', ylabel='Good/Bad'>"
      ]
     },
     "execution_count": 42,
     "metadata": {},
     "output_type": "execute_result"
    },
    {
     "data": {
      "image/png": "[encoded data removed]",
      "text/plain": [
       "<Figure size 360x360 with 1 Axes>"
      ]
     },
     "metadata": {},
     "output_type": "display_data"
    }
   ],
   "source": [
    "sns.barplot('Number of People Liable', 'Good/Bad', data=data)"
   ]
  },
  {
   "cell_type": "markdown",
   "id": "63a62287",
   "metadata": {},
   "source": [
    "Attribute 19: (qualitative) <br/>\n",
    "\t      Telephone <br/>\n",
    "\t      A191 : none <br/>\n",
    "\t      A192 : yes, registered under the customers name\n",
    "\n"
   ]
  },
  {
   "cell_type": "code",
   "execution_count": 43,
   "id": "1ae42691",
   "metadata": {},
   "outputs": [
    {
     "name": "stderr",
     "output_type": "stream",
     "text": [
      "C:\\Users\\DELL\\anaconda3\\lib\\site-packages\\seaborn\\_decorators.py:36: FutureWarning: Pass the following variables as keyword args: x, y. From version 0.12, the only valid positional argument will be `data`, and passing other arguments without an explicit keyword will result in an error or misinterpretation.\n",
      "  warnings.warn(\n"
     ]
    },
    {
     "data": {
      "text/plain": [
       "<AxesSubplot:xlabel='Telephone', ylabel='Good/Bad'>"
      ]
     },
     "execution_count": 43,
     "metadata": {},
     "output_type": "execute_result"
    },
    {
     "data": {
      "image/png": "[encoded data removed]",
      "text/plain": [
       "<Figure size 360x360 with 1 Axes>"
      ]
     },
     "metadata": {},
     "output_type": "display_data"
    }
   ],
   "source": [
    "sns.barplot('Telephone', 'Good/Bad', data=data)"
   ]
  },
  {
   "cell_type": "markdown",
   "id": "2d883e11",
   "metadata": {},
   "source": [
    "Attribute 20: (qualitative) <br/>\n",
    "\t      foreign worker <br/>\n",
    "\t      A201 : yes <br/>\n",
    "\t      A202 : no\n"
   ]
  },
  {
   "cell_type": "code",
   "execution_count": 44,
   "id": "04d712f5",
   "metadata": {},
   "outputs": [
    {
     "name": "stderr",
     "output_type": "stream",
     "text": [
      "C:\\Users\\DELL\\anaconda3\\lib\\site-packages\\seaborn\\_decorators.py:36: FutureWarning: Pass the following variables as keyword args: x, y. From version 0.12, the only valid positional argument will be `data`, and passing other arguments without an explicit keyword will result in an error or misinterpretation.\n",
      "  warnings.warn(\n"
     ]
    },
    {
     "data": {
      "text/plain": [
       "<AxesSubplot:xlabel='Foreign Worker', ylabel='Good/Bad'>"
      ]
     },
     "execution_count": 44,
     "metadata": {},
     "output_type": "execute_result"
    },
    {
     "data": {
      "image/png": "[encoded data removed]",
      "text/plain": [
       "<Figure size 360x360 with 1 Axes>"
      ]
     },
     "metadata": {},
     "output_type": "display_data"
    }
   ],
   "source": [
    "sns.barplot('Foreign Worker', 'Good/Bad', data=data)"
   ]
  },
  {
   "cell_type": "code",
   "execution_count": 45,
   "id": "a398bce9",
   "metadata": {},
   "outputs": [
    {
     "data": {
      "text/plain": [
       "<AxesSubplot:>"
      ]
     },
     "execution_count": 45,
     "metadata": {},
     "output_type": "execute_result"
    },
    {
     "data": {
      "image/png": "[encoded data removed]",
      "text/plain": [
       "<Figure size 864x864 with 2 Axes>"
      ]
     },
     "metadata": {},
     "output_type": "display_data"
    }
   ],
   "source": [
    "sns.set(rc={'figure.figsize':(12,12)})\n",
    "sns.heatmap(data.corr(),annot=True,cmap='viridis')"
   ]
  },
  {
   "cell_type": "code",
   "execution_count": 46,
   "id": "f7cb43b4",
   "metadata": {},
   "outputs": [
    {
     "data": {
      "text/plain": [
       "<AxesSubplot:xlabel='Savings Account', ylabel='count'>"
      ]
     },
     "execution_count": 46,
     "metadata": {},
     "output_type": "execute_result"
    },
    {
     "data": {
      "image/png": "[encoded data removed]",
      "text/plain": [
       "<Figure size 864x864 with 1 Axes>"
      ]
     },
     "metadata": {},
     "output_type": "display_data"
    }
   ],
   "source": [
    "sns.countplot(x=\"Savings Account\", hue=\"Checking Account\", data=data, palette=\"spring\")"
   ]
  },
  {
   "cell_type": "code",
   "execution_count": 47,
   "id": "cbf7acc3",
   "metadata": {},
   "outputs": [],
   "source": [
    "d1 = data[(data['Savings Account'] =='A65' ) & (data['Checking Account'] =='A14' )]"
   ]
  },
  {
   "cell_type": "code",
   "execution_count": 48,
   "id": "1dacd2af",
   "metadata": {},
   "outputs": [
    {
     "data": {
      "text/plain": [
       "0    90\n",
       "1     9\n",
       "Name: Good/Bad, dtype: int64"
      ]
     },
     "execution_count": 48,
     "metadata": {},
     "output_type": "execute_result"
    }
   ],
   "source": [
    "d1['Good/Bad'].value_counts()"
   ]
  },
  {
   "cell_type": "code",
   "execution_count": 49,
   "id": "f52fa961",
   "metadata": {},
   "outputs": [
    {
     "data": {
      "text/plain": [
       "A61    603\n",
       "A65    183\n",
       "A62    103\n",
       "A63     63\n",
       "A64     48\n",
       "Name: Savings Account, dtype: int64"
      ]
     },
     "execution_count": 49,
     "metadata": {},
     "output_type": "execute_result"
    }
   ],
   "source": [
    "data['Savings Account'].value_counts()"
   ]
  },
  {
   "cell_type": "code",
   "execution_count": 50,
   "id": "6dc7fb53",
   "metadata": {},
   "outputs": [
    {
     "data": {
      "text/plain": [
       "A14    394\n",
       "A11    274\n",
       "A12    269\n",
       "A13     63\n",
       "Name: Checking Account, dtype: int64"
      ]
     },
     "execution_count": 50,
     "metadata": {},
     "output_type": "execute_result"
    }
   ],
   "source": [
    "data['Checking Account'].value_counts()"
   ]
  },
  {
   "cell_type": "code",
   "execution_count": 51,
   "id": "28d7ba93",
   "metadata": {},
   "outputs": [
    {
     "data": {
      "text/plain": [
       "0    700\n",
       "1    300\n",
       "Name: Good/Bad, dtype: int64"
      ]
     },
     "execution_count": 51,
     "metadata": {},
     "output_type": "execute_result"
    }
   ],
   "source": [
    "data['Good/Bad'].value_counts()"
   ]
  },
  {
   "cell_type": "markdown",
   "id": "0791748b",
   "metadata": {},
   "source": [
    "Since this is an imbalanced data, oversampling is required"
   ]
  },
  {
   "cell_type": "code",
   "execution_count": 52,
   "id": "28b07767",
   "metadata": {},
   "outputs": [
    {
     "data": {
      "text/html": [
       "<div>\n",
       "<style scoped>\n",
       "    .dataframe tbody tr th:only-of-type {\n",
       "        vertical-align: middle;\n",
       "    }\n",
       "\n",
       "    .dataframe tbody tr th {\n",
       "        vertical-align: top;\n",
       "    }\n",
       "\n",
       "    .dataframe thead th {\n",
       "        text-align: right;\n",
       "    }\n",
       "</style>\n",
       "<table border=\"1\" class=\"dataframe\">\n",
       "  <thead>\n",
       "    <tr style=\"text-align: right;\">\n",
       "      <th></th>\n",
       "      <th>Checking Account</th>\n",
       "      <th>Duration</th>\n",
       "      <th>Credit History</th>\n",
       "      <th>Purpose</th>\n",
       "      <th>Credit Amount</th>\n",
       "      <th>Savings Account</th>\n",
       "      <th>Employment Length</th>\n",
       "      <th>Installment Rate</th>\n",
       "      <th>Personal Status and Sex</th>\n",
       "      <th>Other Debtors</th>\n",
       "      <th>...</th>\n",
       "      <th>Property</th>\n",
       "      <th>Age</th>\n",
       "      <th>Other Installments</th>\n",
       "      <th>Housing</th>\n",
       "      <th>Number of Credits at this bank</th>\n",
       "      <th>Job</th>\n",
       "      <th>Number of People Liable</th>\n",
       "      <th>Telephone</th>\n",
       "      <th>Foreign Worker</th>\n",
       "      <th>Good/Bad</th>\n",
       "    </tr>\n",
       "  </thead>\n",
       "  <tbody>\n",
       "    <tr>\n",
       "      <th>0</th>\n",
       "      <td>A11</td>\n",
       "      <td>0</td>\n",
       "      <td>A34</td>\n",
       "      <td>A43</td>\n",
       "      <td>1169</td>\n",
       "      <td>A65</td>\n",
       "      <td>A75</td>\n",
       "      <td>4</td>\n",
       "      <td>A93</td>\n",
       "      <td>A101</td>\n",
       "      <td>...</td>\n",
       "      <td>A121</td>\n",
       "      <td>4</td>\n",
       "      <td>A143</td>\n",
       "      <td>A152</td>\n",
       "      <td>2</td>\n",
       "      <td>A173</td>\n",
       "      <td>1</td>\n",
       "      <td>A192</td>\n",
       "      <td>A201</td>\n",
       "      <td>0</td>\n",
       "    </tr>\n",
       "    <tr>\n",
       "      <th>1</th>\n",
       "      <td>A12</td>\n",
       "      <td>4</td>\n",
       "      <td>A32</td>\n",
       "      <td>A43</td>\n",
       "      <td>5951</td>\n",
       "      <td>A61</td>\n",
       "      <td>A73</td>\n",
       "      <td>2</td>\n",
       "      <td>A92</td>\n",
       "      <td>A101</td>\n",
       "      <td>...</td>\n",
       "      <td>A121</td>\n",
       "      <td>1</td>\n",
       "      <td>A143</td>\n",
       "      <td>A152</td>\n",
       "      <td>1</td>\n",
       "      <td>A173</td>\n",
       "      <td>1</td>\n",
       "      <td>A191</td>\n",
       "      <td>A201</td>\n",
       "      <td>1</td>\n",
       "    </tr>\n",
       "    <tr>\n",
       "      <th>2</th>\n",
       "      <td>A14</td>\n",
       "      <td>1</td>\n",
       "      <td>A34</td>\n",
       "      <td>A46</td>\n",
       "      <td>2096</td>\n",
       "      <td>A61</td>\n",
       "      <td>A74</td>\n",
       "      <td>2</td>\n",
       "      <td>A93</td>\n",
       "      <td>A101</td>\n",
       "      <td>...</td>\n",
       "      <td>A121</td>\n",
       "      <td>3</td>\n",
       "      <td>A143</td>\n",
       "      <td>A152</td>\n",
       "      <td>1</td>\n",
       "      <td>A172</td>\n",
       "      <td>2</td>\n",
       "      <td>A191</td>\n",
       "      <td>A201</td>\n",
       "      <td>0</td>\n",
       "    </tr>\n",
       "    <tr>\n",
       "      <th>3</th>\n",
       "      <td>A11</td>\n",
       "      <td>4</td>\n",
       "      <td>A32</td>\n",
       "      <td>A42</td>\n",
       "      <td>7882</td>\n",
       "      <td>A61</td>\n",
       "      <td>A74</td>\n",
       "      <td>2</td>\n",
       "      <td>A93</td>\n",
       "      <td>A103</td>\n",
       "      <td>...</td>\n",
       "      <td>A122</td>\n",
       "      <td>3</td>\n",
       "      <td>A143</td>\n",
       "      <td>A153</td>\n",
       "      <td>1</td>\n",
       "      <td>A173</td>\n",
       "      <td>2</td>\n",
       "      <td>A191</td>\n",
       "      <td>A201</td>\n",
       "      <td>0</td>\n",
       "    </tr>\n",
       "    <tr>\n",
       "      <th>4</th>\n",
       "      <td>A11</td>\n",
       "      <td>2</td>\n",
       "      <td>A33</td>\n",
       "      <td>A40</td>\n",
       "      <td>4870</td>\n",
       "      <td>A61</td>\n",
       "      <td>A73</td>\n",
       "      <td>3</td>\n",
       "      <td>A93</td>\n",
       "      <td>A101</td>\n",
       "      <td>...</td>\n",
       "      <td>A124</td>\n",
       "      <td>3</td>\n",
       "      <td>A143</td>\n",
       "      <td>A153</td>\n",
       "      <td>2</td>\n",
       "      <td>A173</td>\n",
       "      <td>2</td>\n",
       "      <td>A191</td>\n",
       "      <td>A201</td>\n",
       "      <td>1</td>\n",
       "    </tr>\n",
       "    <tr>\n",
       "      <th>...</th>\n",
       "      <td>...</td>\n",
       "      <td>...</td>\n",
       "      <td>...</td>\n",
       "      <td>...</td>\n",
       "      <td>...</td>\n",
       "      <td>...</td>\n",
       "      <td>...</td>\n",
       "      <td>...</td>\n",
       "      <td>...</td>\n",
       "      <td>...</td>\n",
       "      <td>...</td>\n",
       "      <td>...</td>\n",
       "      <td>...</td>\n",
       "      <td>...</td>\n",
       "      <td>...</td>\n",
       "      <td>...</td>\n",
       "      <td>...</td>\n",
       "      <td>...</td>\n",
       "      <td>...</td>\n",
       "      <td>...</td>\n",
       "      <td>...</td>\n",
       "    </tr>\n",
       "    <tr>\n",
       "      <th>995</th>\n",
       "      <td>A14</td>\n",
       "      <td>1</td>\n",
       "      <td>A32</td>\n",
       "      <td>A42</td>\n",
       "      <td>1736</td>\n",
       "      <td>A61</td>\n",
       "      <td>A74</td>\n",
       "      <td>3</td>\n",
       "      <td>A92</td>\n",
       "      <td>A101</td>\n",
       "      <td>...</td>\n",
       "      <td>A121</td>\n",
       "      <td>2</td>\n",
       "      <td>A143</td>\n",
       "      <td>A152</td>\n",
       "      <td>1</td>\n",
       "      <td>A172</td>\n",
       "      <td>1</td>\n",
       "      <td>A191</td>\n",
       "      <td>A201</td>\n",
       "      <td>0</td>\n",
       "    </tr>\n",
       "    <tr>\n",
       "      <th>996</th>\n",
       "      <td>A11</td>\n",
       "      <td>3</td>\n",
       "      <td>A32</td>\n",
       "      <td>A41</td>\n",
       "      <td>3857</td>\n",
       "      <td>A61</td>\n",
       "      <td>A73</td>\n",
       "      <td>4</td>\n",
       "      <td>A91</td>\n",
       "      <td>A101</td>\n",
       "      <td>...</td>\n",
       "      <td>A122</td>\n",
       "      <td>2</td>\n",
       "      <td>A143</td>\n",
       "      <td>A152</td>\n",
       "      <td>1</td>\n",
       "      <td>A174</td>\n",
       "      <td>1</td>\n",
       "      <td>A192</td>\n",
       "      <td>A201</td>\n",
       "      <td>0</td>\n",
       "    </tr>\n",
       "    <tr>\n",
       "      <th>997</th>\n",
       "      <td>A14</td>\n",
       "      <td>1</td>\n",
       "      <td>A32</td>\n",
       "      <td>A43</td>\n",
       "      <td>804</td>\n",
       "      <td>A61</td>\n",
       "      <td>A75</td>\n",
       "      <td>4</td>\n",
       "      <td>A93</td>\n",
       "      <td>A101</td>\n",
       "      <td>...</td>\n",
       "      <td>A123</td>\n",
       "      <td>2</td>\n",
       "      <td>A143</td>\n",
       "      <td>A152</td>\n",
       "      <td>1</td>\n",
       "      <td>A173</td>\n",
       "      <td>1</td>\n",
       "      <td>A191</td>\n",
       "      <td>A201</td>\n",
       "      <td>0</td>\n",
       "    </tr>\n",
       "    <tr>\n",
       "      <th>998</th>\n",
       "      <td>A11</td>\n",
       "      <td>4</td>\n",
       "      <td>A32</td>\n",
       "      <td>A43</td>\n",
       "      <td>1845</td>\n",
       "      <td>A61</td>\n",
       "      <td>A73</td>\n",
       "      <td>4</td>\n",
       "      <td>A93</td>\n",
       "      <td>A101</td>\n",
       "      <td>...</td>\n",
       "      <td>A124</td>\n",
       "      <td>1</td>\n",
       "      <td>A143</td>\n",
       "      <td>A153</td>\n",
       "      <td>1</td>\n",
       "      <td>A173</td>\n",
       "      <td>1</td>\n",
       "      <td>A192</td>\n",
       "      <td>A201</td>\n",
       "      <td>1</td>\n",
       "    </tr>\n",
       "    <tr>\n",
       "      <th>999</th>\n",
       "      <td>A12</td>\n",
       "      <td>4</td>\n",
       "      <td>A34</td>\n",
       "      <td>A41</td>\n",
       "      <td>4576</td>\n",
       "      <td>A62</td>\n",
       "      <td>A71</td>\n",
       "      <td>3</td>\n",
       "      <td>A93</td>\n",
       "      <td>A101</td>\n",
       "      <td>...</td>\n",
       "      <td>A123</td>\n",
       "      <td>1</td>\n",
       "      <td>A143</td>\n",
       "      <td>A152</td>\n",
       "      <td>1</td>\n",
       "      <td>A173</td>\n",
       "      <td>1</td>\n",
       "      <td>A191</td>\n",
       "      <td>A201</td>\n",
       "      <td>0</td>\n",
       "    </tr>\n",
       "  </tbody>\n",
       "</table>\n",
       "<p>1000 rows × 21 columns</p>\n",
       "</div>"
      ],
      "text/plain": [
       "    Checking Account  Duration Credit History Purpose  Credit Amount  \\\n",
       "0                A11         0            A34     A43           1169   \n",
       "1                A12         4            A32     A43           5951   \n",
       "2                A14         1            A34     A46           2096   \n",
       "3                A11         4            A32     A42           7882   \n",
       "4                A11         2            A33     A40           4870   \n",
       "..               ...       ...            ...     ...            ...   \n",
       "995              A14         1            A32     A42           1736   \n",
       "996              A11         3            A32     A41           3857   \n",
       "997              A14         1            A32     A43            804   \n",
       "998              A11         4            A32     A43           1845   \n",
       "999              A12         4            A34     A41           4576   \n",
       "\n",
       "    Savings Account Employment Length  Installment Rate  \\\n",
       "0               A65               A75                 4   \n",
       "1               A61               A73                 2   \n",
       "2               A61               A74                 2   \n",
       "3               A61               A74                 2   \n",
       "4               A61               A73                 3   \n",
       "..              ...               ...               ...   \n",
       "995             A61               A74                 3   \n",
       "996             A61               A73                 4   \n",
       "997             A61               A75                 4   \n",
       "998             A61               A73                 4   \n",
       "999             A62               A71                 3   \n",
       "\n",
       "    Personal Status and Sex Other Debtors  ...  Property Age  \\\n",
       "0                       A93          A101  ...      A121   4   \n",
       "1                       A92          A101  ...      A121   1   \n",
       "2                       A93          A101  ...      A121   3   \n",
       "3                       A93          A103  ...      A122   3   \n",
       "4                       A93          A101  ...      A124   3   \n",
       "..                      ...           ...  ...       ...  ..   \n",
       "995                     A92          A101  ...      A121   2   \n",
       "996                     A91          A101  ...      A122   2   \n",
       "997                     A93          A101  ...      A123   2   \n",
       "998                     A93          A101  ...      A124   1   \n",
       "999                     A93          A101  ...      A123   1   \n",
       "\n",
       "     Other Installments Housing Number of Credits at this bank   Job  \\\n",
       "0                  A143    A152                              2  A173   \n",
       "1                  A143    A152                              1  A173   \n",
       "2                  A143    A152                              1  A172   \n",
       "3                  A143    A153                              1  A173   \n",
       "4                  A143    A153                              2  A173   \n",
       "..                  ...     ...                            ...   ...   \n",
       "995                A143    A152                              1  A172   \n",
       "996                A143    A152                              1  A174   \n",
       "997                A143    A152                              1  A173   \n",
       "998                A143    A153                              1  A173   \n",
       "999                A143    A152                              1  A173   \n",
       "\n",
       "    Number of People Liable  Telephone Foreign Worker Good/Bad  \n",
       "0                         1       A192           A201        0  \n",
       "1                         1       A191           A201        1  \n",
       "2                         2       A191           A201        0  \n",
       "3                         2       A191           A201        0  \n",
       "4                         2       A191           A201        1  \n",
       "..                      ...        ...            ...      ...  \n",
       "995                       1       A191           A201        0  \n",
       "996                       1       A192           A201        0  \n",
       "997                       1       A191           A201        0  \n",
       "998                       1       A192           A201        1  \n",
       "999                       1       A191           A201        0  \n",
       "\n",
       "[1000 rows x 21 columns]"
      ]
     },
     "execution_count": 52,
     "metadata": {},
     "output_type": "execute_result"
    }
   ],
   "source": [
    "data"
   ]
  },
  {
   "cell_type": "code",
   "execution_count": 53,
   "id": "44b486e1",
   "metadata": {},
   "outputs": [],
   "source": [
    "df = data"
   ]
  },
  {
   "cell_type": "code",
   "execution_count": 54,
   "id": "503ae12b",
   "metadata": {},
   "outputs": [
    {
     "name": "stdout",
     "output_type": "stream",
     "text": [
      "<class 'pandas.core.frame.DataFrame'>\n",
      "RangeIndex: 1000 entries, 0 to 999\n",
      "Data columns (total 21 columns):\n",
      " #   Column                          Non-Null Count  Dtype \n",
      "---  ------                          --------------  ----- \n",
      " 0   Checking Account                1000 non-null   object\n",
      " 1   Duration                        1000 non-null   int32 \n",
      " 2   Credit History                  1000 non-null   object\n",
      " 3   Purpose                         1000 non-null   object\n",
      " 4   Credit Amount                   1000 non-null   int64 \n",
      " 5   Savings Account                 1000 non-null   object\n",
      " 6   Employment Length               1000 non-null   object\n",
      " 7   Installment Rate                1000 non-null   int64 \n",
      " 8   Personal Status and Sex         1000 non-null   object\n",
      " 9   Other Debtors                   1000 non-null   object\n",
      " 10  Residence Since                 1000 non-null   int64 \n",
      " 11  Property                        1000 non-null   object\n",
      " 12  Age                             1000 non-null   int32 \n",
      " 13  Other Installments              1000 non-null   object\n",
      " 14  Housing                         1000 non-null   object\n",
      " 15  Number of Credits at this bank  1000 non-null   int64 \n",
      " 16  Job                             1000 non-null   object\n",
      " 17  Number of People Liable         1000 non-null   int64 \n",
      " 18  Telephone                       1000 non-null   object\n",
      " 19  Foreign Worker                  1000 non-null   object\n",
      " 20  Good/Bad                        1000 non-null   int64 \n",
      "dtypes: int32(2), int64(6), object(13)\n",
      "memory usage: 156.4+ KB\n"
     ]
    }
   ],
   "source": [
    "df.info()"
   ]
  },
  {
   "cell_type": "code",
   "execution_count": 55,
   "id": "d788b996",
   "metadata": {},
   "outputs": [],
   "source": [
    "df = df.drop(['Purpose', 'Employment Length', 'Installment Rate', 'Residence Since', 'Other Installments', 'Number of Credits at this bank','Job', 'Number of People Liable', 'Telephone',  ], axis=1)"
   ]
  },
  {
   "cell_type": "code",
   "execution_count": 56,
   "id": "d8a00103",
   "metadata": {},
   "outputs": [
    {
     "name": "stdout",
     "output_type": "stream",
     "text": [
      "<class 'pandas.core.frame.DataFrame'>\n",
      "RangeIndex: 1000 entries, 0 to 999\n",
      "Data columns (total 12 columns):\n",
      " #   Column                   Non-Null Count  Dtype \n",
      "---  ------                   --------------  ----- \n",
      " 0   Checking Account         1000 non-null   object\n",
      " 1   Duration                 1000 non-null   int32 \n",
      " 2   Credit History           1000 non-null   object\n",
      " 3   Credit Amount            1000 non-null   int64 \n",
      " 4   Savings Account          1000 non-null   object\n",
      " 5   Personal Status and Sex  1000 non-null   object\n",
      " 6   Other Debtors            1000 non-null   object\n",
      " 7   Property                 1000 non-null   object\n",
      " 8   Age                      1000 non-null   int32 \n",
      " 9   Housing                  1000 non-null   object\n",
      " 10  Foreign Worker           1000 non-null   object\n",
      " 11  Good/Bad                 1000 non-null   int64 \n",
      "dtypes: int32(2), int64(2), object(8)\n",
      "memory usage: 86.1+ KB\n"
     ]
    }
   ],
   "source": [
    "df.info()"
   ]
  },
  {
   "cell_type": "code",
   "execution_count": 57,
   "id": "d86b9aea",
   "metadata": {},
   "outputs": [
    {
     "data": {
      "text/html": [
       "<div>\n",
       "<style scoped>\n",
       "    .dataframe tbody tr th:only-of-type {\n",
       "        vertical-align: middle;\n",
       "    }\n",
       "\n",
       "    .dataframe tbody tr th {\n",
       "        vertical-align: top;\n",
       "    }\n",
       "\n",
       "    .dataframe thead th {\n",
       "        text-align: right;\n",
       "    }\n",
       "</style>\n",
       "<table border=\"1\" class=\"dataframe\">\n",
       "  <thead>\n",
       "    <tr style=\"text-align: right;\">\n",
       "      <th></th>\n",
       "      <th>Checking Account</th>\n",
       "      <th>Duration</th>\n",
       "      <th>Credit History</th>\n",
       "      <th>Credit Amount</th>\n",
       "      <th>Savings Account</th>\n",
       "      <th>Personal Status and Sex</th>\n",
       "      <th>Other Debtors</th>\n",
       "      <th>Property</th>\n",
       "      <th>Age</th>\n",
       "      <th>Housing</th>\n",
       "      <th>Foreign Worker</th>\n",
       "      <th>Good/Bad</th>\n",
       "    </tr>\n",
       "  </thead>\n",
       "  <tbody>\n",
       "    <tr>\n",
       "      <th>0</th>\n",
       "      <td>A11</td>\n",
       "      <td>0</td>\n",
       "      <td>A34</td>\n",
       "      <td>1169</td>\n",
       "      <td>A65</td>\n",
       "      <td>A93</td>\n",
       "      <td>A101</td>\n",
       "      <td>A121</td>\n",
       "      <td>4</td>\n",
       "      <td>A152</td>\n",
       "      <td>A201</td>\n",
       "      <td>0</td>\n",
       "    </tr>\n",
       "    <tr>\n",
       "      <th>1</th>\n",
       "      <td>A12</td>\n",
       "      <td>4</td>\n",
       "      <td>A32</td>\n",
       "      <td>5951</td>\n",
       "      <td>A61</td>\n",
       "      <td>A92</td>\n",
       "      <td>A101</td>\n",
       "      <td>A121</td>\n",
       "      <td>1</td>\n",
       "      <td>A152</td>\n",
       "      <td>A201</td>\n",
       "      <td>1</td>\n",
       "    </tr>\n",
       "    <tr>\n",
       "      <th>2</th>\n",
       "      <td>A14</td>\n",
       "      <td>1</td>\n",
       "      <td>A34</td>\n",
       "      <td>2096</td>\n",
       "      <td>A61</td>\n",
       "      <td>A93</td>\n",
       "      <td>A101</td>\n",
       "      <td>A121</td>\n",
       "      <td>3</td>\n",
       "      <td>A152</td>\n",
       "      <td>A201</td>\n",
       "      <td>0</td>\n",
       "    </tr>\n",
       "    <tr>\n",
       "      <th>3</th>\n",
       "      <td>A11</td>\n",
       "      <td>4</td>\n",
       "      <td>A32</td>\n",
       "      <td>7882</td>\n",
       "      <td>A61</td>\n",
       "      <td>A93</td>\n",
       "      <td>A103</td>\n",
       "      <td>A122</td>\n",
       "      <td>3</td>\n",
       "      <td>A153</td>\n",
       "      <td>A201</td>\n",
       "      <td>0</td>\n",
       "    </tr>\n",
       "    <tr>\n",
       "      <th>4</th>\n",
       "      <td>A11</td>\n",
       "      <td>2</td>\n",
       "      <td>A33</td>\n",
       "      <td>4870</td>\n",
       "      <td>A61</td>\n",
       "      <td>A93</td>\n",
       "      <td>A101</td>\n",
       "      <td>A124</td>\n",
       "      <td>3</td>\n",
       "      <td>A153</td>\n",
       "      <td>A201</td>\n",
       "      <td>1</td>\n",
       "    </tr>\n",
       "    <tr>\n",
       "      <th>...</th>\n",
       "      <td>...</td>\n",
       "      <td>...</td>\n",
       "      <td>...</td>\n",
       "      <td>...</td>\n",
       "      <td>...</td>\n",
       "      <td>...</td>\n",
       "      <td>...</td>\n",
       "      <td>...</td>\n",
       "      <td>...</td>\n",
       "      <td>...</td>\n",
       "      <td>...</td>\n",
       "      <td>...</td>\n",
       "    </tr>\n",
       "    <tr>\n",
       "      <th>995</th>\n",
       "      <td>A14</td>\n",
       "      <td>1</td>\n",
       "      <td>A32</td>\n",
       "      <td>1736</td>\n",
       "      <td>A61</td>\n",
       "      <td>A92</td>\n",
       "      <td>A101</td>\n",
       "      <td>A121</td>\n",
       "      <td>2</td>\n",
       "      <td>A152</td>\n",
       "      <td>A201</td>\n",
       "      <td>0</td>\n",
       "    </tr>\n",
       "    <tr>\n",
       "      <th>996</th>\n",
       "      <td>A11</td>\n",
       "      <td>3</td>\n",
       "      <td>A32</td>\n",
       "      <td>3857</td>\n",
       "      <td>A61</td>\n",
       "      <td>A91</td>\n",
       "      <td>A101</td>\n",
       "      <td>A122</td>\n",
       "      <td>2</td>\n",
       "      <td>A152</td>\n",
       "      <td>A201</td>\n",
       "      <td>0</td>\n",
       "    </tr>\n",
       "    <tr>\n",
       "      <th>997</th>\n",
       "      <td>A14</td>\n",
       "      <td>1</td>\n",
       "      <td>A32</td>\n",
       "      <td>804</td>\n",
       "      <td>A61</td>\n",
       "      <td>A93</td>\n",
       "      <td>A101</td>\n",
       "      <td>A123</td>\n",
       "      <td>2</td>\n",
       "      <td>A152</td>\n",
       "      <td>A201</td>\n",
       "      <td>0</td>\n",
       "    </tr>\n",
       "    <tr>\n",
       "      <th>998</th>\n",
       "      <td>A11</td>\n",
       "      <td>4</td>\n",
       "      <td>A32</td>\n",
       "      <td>1845</td>\n",
       "      <td>A61</td>\n",
       "      <td>A93</td>\n",
       "      <td>A101</td>\n",
       "      <td>A124</td>\n",
       "      <td>1</td>\n",
       "      <td>A153</td>\n",
       "      <td>A201</td>\n",
       "      <td>1</td>\n",
       "    </tr>\n",
       "    <tr>\n",
       "      <th>999</th>\n",
       "      <td>A12</td>\n",
       "      <td>4</td>\n",
       "      <td>A34</td>\n",
       "      <td>4576</td>\n",
       "      <td>A62</td>\n",
       "      <td>A93</td>\n",
       "      <td>A101</td>\n",
       "      <td>A123</td>\n",
       "      <td>1</td>\n",
       "      <td>A152</td>\n",
       "      <td>A201</td>\n",
       "      <td>0</td>\n",
       "    </tr>\n",
       "  </tbody>\n",
       "</table>\n",
       "<p>1000 rows × 12 columns</p>\n",
       "</div>"
      ],
      "text/plain": [
       "    Checking Account  Duration Credit History  Credit Amount Savings Account  \\\n",
       "0                A11         0            A34           1169             A65   \n",
       "1                A12         4            A32           5951             A61   \n",
       "2                A14         1            A34           2096             A61   \n",
       "3                A11         4            A32           7882             A61   \n",
       "4                A11         2            A33           4870             A61   \n",
       "..               ...       ...            ...            ...             ...   \n",
       "995              A14         1            A32           1736             A61   \n",
       "996              A11         3            A32           3857             A61   \n",
       "997              A14         1            A32            804             A61   \n",
       "998              A11         4            A32           1845             A61   \n",
       "999              A12         4            A34           4576             A62   \n",
       "\n",
       "    Personal Status and Sex Other Debtors Property  Age Housing  \\\n",
       "0                       A93          A101     A121    4    A152   \n",
       "1                       A92          A101     A121    1    A152   \n",
       "2                       A93          A101     A121    3    A152   \n",
       "3                       A93          A103     A122    3    A153   \n",
       "4                       A93          A101     A124    3    A153   \n",
       "..                      ...           ...      ...  ...     ...   \n",
       "995                     A92          A101     A121    2    A152   \n",
       "996                     A91          A101     A122    2    A152   \n",
       "997                     A93          A101     A123    2    A152   \n",
       "998                     A93          A101     A124    1    A153   \n",
       "999                     A93          A101     A123    1    A152   \n",
       "\n",
       "    Foreign Worker  Good/Bad  \n",
       "0             A201         0  \n",
       "1             A201         1  \n",
       "2             A201         0  \n",
       "3             A201         0  \n",
       "4             A201         1  \n",
       "..             ...       ...  \n",
       "995           A201         0  \n",
       "996           A201         0  \n",
       "997           A201         0  \n",
       "998           A201         1  \n",
       "999           A201         0  \n",
       "\n",
       "[1000 rows x 12 columns]"
      ]
     },
     "execution_count": 57,
     "metadata": {},
     "output_type": "execute_result"
    }
   ],
   "source": [
    "df"
   ]
  }
 ],
 "metadata": {
  "kernelspec": {
   "display_name": "Python 3",
   "language": "python",
   "name": "python3"
  },
  "language_info": {
   "codemirror_mode": {
    "name": "ipython",
    "version": 3
   },
   "file_extension": ".py",
   "mimetype": "text/x-python",
   "name": "python",
   "nbconvert_exporter": "python",
   "pygments_lexer": "ipython3",
   "version": "3.8.8"
  }
 },
 "nbformat": 4,
 "nbformat_minor": 5
}

{
 "cells": [
  {
   "cell_type": "markdown",
   "id": "cf5ad923",
   "metadata": {},
   "source": [
    "# Classification of Good and Bad customers"
   ]
  },
  {
   "cell_type": "code",
   "execution_count": 24,
   "id": "844f268c",
   "metadata": {},
   "outputs": [],
   "source": [
    "import pandas as pd\n",
    "import category_encoders as ce\n",
    "import math\n",
    "import numpy as np\n",
    "import random\n",
    "import logging\n",
    "import numbers\n",
    "import pickle\n",
    "\n",
    "from joblib import dump, load\n",
    "from sklearn.model_selection import train_test_split\n",
    "from sklearn.preprocessing import StandardScaler\n",
    "from sklearn import neighbors, tree, svm\n",
    "from sklearn.linear_model import SGDClassifier, LogisticRegression\n",
    "from sklearn.utils import shuffle\n",
    "from sklearn.base import BaseEstimator\n",
    "from sklearn.utils.validation import check_X_y, check_array, check_is_fitted\n",
    "from sklearn.naive_bayes import GaussianNB\n",
    "from sklearn.discriminant_analysis import LinearDiscriminantAnalysis\n",
    "from sklearn.neural_network import MLPClassifier\n",
    "from sklearn.metrics import confusion_matrix, accuracy_score, classification_report\n",
    "import seaborn as sns"
   ]
  },
  {
   "cell_type": "markdown",
   "id": "6ea34409",
   "metadata": {},
   "source": [
    "# Importing German Data"
   ]
  },
  {
   "cell_type": "code",
   "execution_count": 2,
   "id": "e1c65cc5",
   "metadata": {},
   "outputs": [],
   "source": [
    "data = pd.read_csv(r\"C:\\\\Users\\\\DELL\\\\Downloads\\\\german.data\",delimiter=' ', header=None)"
   ]
  },
  {
   "cell_type": "code",
   "execution_count": 3,
   "id": "ae16e951",
   "metadata": {},
   "outputs": [],
   "source": [
    "data.columns = ['Checking Account', 'Duration', 'Credit History', 'Purpose', 'Credit Amount', 'Savings Account', 'Employment Length', 'Installment Rate', 'Personal Status and Sex', 'Other Debtors', 'Residence Since', 'Property', 'Age', 'Other Installments', 'Housing', 'Number of Credits at this bank', 'Job', 'Number of People Liable', 'Telephone', 'Foreign Worker', 'Good/Bad']\n",
    "\n",
    "#Converting to 0-1 classification from 1-2\n",
    "data['Good/Bad']=data['Good/Bad']-1\n",
    "\n",
    "data['Duration']= (data['Duration']/10.0).astype(int)\n",
    "\n",
    "data['Age']= (data['Age']/15.0).astype(int)"
   ]
  },
  {
   "cell_type": "code",
   "execution_count": 4,
   "id": "be96d777",
   "metadata": {},
   "outputs": [],
   "source": [
    "df = data\n",
    "\n",
    "df = df.drop(['Purpose', 'Employment Length', 'Installment Rate', 'Residence Since', 'Other Installments', 'Number of Credits at this bank','Job', 'Number of People Liable', 'Telephone',  ], axis=1)"
   ]
  },
  {
   "cell_type": "markdown",
   "id": "9771f6ca",
   "metadata": {},
   "source": [
    "# Feature encoding "
   ]
  },
  {
   "cell_type": "code",
   "execution_count": 5,
   "id": "46544ad2",
   "metadata": {},
   "outputs": [],
   "source": [
    "encoder= ce.OrdinalEncoder(cols=['Checking Account'],return_df=True,\n",
    "                           mapping=[{'col':'Checking Account',\n",
    "'mapping':{'A11':0,'A12':1,'A13':2,'A14':3}}])\n",
    "\n",
    "df_train_transformed = encoder.fit_transform(df)"
   ]
  },
  {
   "cell_type": "code",
   "execution_count": 6,
   "id": "0ded59c6",
   "metadata": {},
   "outputs": [],
   "source": [
    "encoder= ce.OrdinalEncoder(cols=['Credit History'],return_df=True,\n",
    "                           mapping=[{'col':'Credit History',\n",
    "'mapping':{'A30':0,'A31':1,'A32':2,'A33':3, 'A34':4}}])\n",
    "\n",
    "df_train_transformed = encoder.fit_transform(df_train_transformed)"
   ]
  },
  {
   "cell_type": "code",
   "execution_count": 7,
   "id": "cddb696c",
   "metadata": {},
   "outputs": [],
   "source": [
    "encoder= ce.OrdinalEncoder(cols=['Savings Account'],return_df=True,\n",
    "                           mapping=[{'col':'Savings Account',\n",
    "'mapping':{'A61':0,'A62':1,'A63':2,'A64':3, 'A65':4}}])\n",
    "\n",
    "df_train_transformed = encoder.fit_transform(df_train_transformed)"
   ]
  },
  {
   "cell_type": "code",
   "execution_count": 8,
   "id": "fe7d4b85",
   "metadata": {},
   "outputs": [
    {
     "data": {
      "text/plain": [
       "['personal_status_and_sex.joblib']"
      ]
     },
     "execution_count": 8,
     "metadata": {},
     "output_type": "execute_result"
    }
   ],
   "source": [
    "encoder = ce.OneHotEncoder(cols='Personal Status and Sex',handle_unknown='return_nan',return_df=True,use_cat_names=True)\n",
    "\n",
    "df_train_transformed = encoder.fit_transform(df_train_transformed)\n",
    "\n",
    "dump(encoder, 'personal_status_and_sex.joblib')"
   ]
  },
  {
   "cell_type": "code",
   "execution_count": 9,
   "id": "d9339e9e",
   "metadata": {},
   "outputs": [
    {
     "data": {
      "text/plain": [
       "['other_debtors.joblib']"
      ]
     },
     "execution_count": 9,
     "metadata": {},
     "output_type": "execute_result"
    }
   ],
   "source": [
    "encoder = ce.OneHotEncoder(cols='Other Debtors',handle_unknown='return_nan',return_df=True,use_cat_names=True)\n",
    "\n",
    "df_train_transformed = encoder.fit_transform(df_train_transformed)\n",
    "\n",
    "dump(encoder, 'other_debtors.joblib')"
   ]
  },
  {
   "cell_type": "code",
   "execution_count": 10,
   "id": "76d3bbc3",
   "metadata": {},
   "outputs": [],
   "source": [
    "encoder= ce.OrdinalEncoder(cols=['Property'],return_df=True,\n",
    "                           mapping=[{'col':'Property',\n",
    "'mapping':{'A121':0,'A122':1,'A123':2,'A124':3}}])\n",
    "\n",
    "df_train_transformed = encoder.fit_transform(df_train_transformed)"
   ]
  },
  {
   "cell_type": "code",
   "execution_count": 11,
   "id": "8cfc97a0",
   "metadata": {},
   "outputs": [],
   "source": [
    "encoder= ce.OrdinalEncoder(cols=['Housing'],return_df=True,\n",
    "                           mapping=[{'col':'Housing',\n",
    "'mapping':{'A152':0,'A151':1,'A153':2}}])\n",
    "\n",
    "df_train_transformed = encoder.fit_transform(df_train_transformed)"
   ]
  },
  {
   "cell_type": "code",
   "execution_count": 12,
   "id": "75bb7c6f",
   "metadata": {},
   "outputs": [],
   "source": [
    "encoder= ce.OrdinalEncoder(cols=['Foreign Worker'],return_df=True,\n",
    "                           mapping=[{'col':'Foreign Worker',\n",
    "'mapping':{'A201':0,'A202':1}}])\n",
    "\n",
    "df_train_transformed = encoder.fit_transform(df_train_transformed)"
   ]
  },
  {
   "cell_type": "markdown",
   "id": "b8ebeccc",
   "metadata": {},
   "source": [
    "# Train-Test Split"
   ]
  },
  {
   "cell_type": "code",
   "execution_count": 13,
   "id": "a9083401",
   "metadata": {},
   "outputs": [],
   "source": [
    "X = df_train_transformed.iloc[:, :-1].values\n",
    "y = df_train_transformed.iloc[:, -1].values"
   ]
  },
  {
   "cell_type": "code",
   "execution_count": 14,
   "id": "f1e01eca",
   "metadata": {},
   "outputs": [],
   "source": [
    "X_train, X_test, y_train, y_test = train_test_split(X, y, test_size = 0.2, random_state = 1)"
   ]
  },
  {
   "cell_type": "markdown",
   "id": "84214eef",
   "metadata": {},
   "source": [
    "# Standard scaling"
   ]
  },
  {
   "cell_type": "code",
   "execution_count": 15,
   "id": "b9f924d6",
   "metadata": {},
   "outputs": [
    {
     "data": {
      "text/plain": [
       "['standard_scaler.joblib']"
      ]
     },
     "execution_count": 15,
     "metadata": {},
     "output_type": "execute_result"
    }
   ],
   "source": [
    "sc = StandardScaler()\n",
    "\n",
    "X_train[:, :] = sc.fit_transform(X_train[:, :])\n",
    "X_test[:, :] = sc.transform(X_test[:, :])\n",
    "\n",
    "dump(sc, 'standard_scaler.joblib')"
   ]
  },
  {
   "cell_type": "markdown",
   "id": "7c254f4c",
   "metadata": {},
   "source": [
    "# Oversampling for imbalanced data using SMOTE"
   ]
  },
  {
   "cell_type": "code",
   "execution_count": 16,
   "id": "a1acf7c1",
   "metadata": {},
   "outputs": [],
   "source": [
    "from imblearn.over_sampling import SMOTE\n",
    "smt = SMOTE()\n",
    "\n",
    "X_train_sm, y_train_sm = smt.fit_resample(X_train, y_train)"
   ]
  },
  {
   "cell_type": "markdown",
   "id": "5d21be8a",
   "metadata": {},
   "source": [
    "# Implementation of Classifier PyCOBRA"
   ]
  },
  {
   "cell_type": "code",
   "execution_count": 17,
   "id": "f4f75780",
   "metadata": {},
   "outputs": [],
   "source": [
    "\n",
    "logger = logging.getLogger('pycobra.classifiercobra')\n",
    "\n",
    "\n",
    "class ClassifierCobra(BaseEstimator):\n",
    "    \"\"\"\n",
    "    Classification algorithm as introduced by\n",
    "    Mojirsheibani [1999] Combining Classifiers via Discretization,\n",
    "    Journal of the American Statistical Association.\n",
    "    Parameters\n",
    "    ----------\n",
    "    random_state: integer or a numpy.random.RandomState object.\n",
    "        Set the state of the random number generator to pass on to shuffle and loading machines, to ensure\n",
    "        reproducibility of your experiments, for example.\n",
    "    Attributes\n",
    "    ----------\n",
    "    machines: A dictionary which maps machine names to the machine objects.\n",
    "            The machine object must have a predict method for it to be used during aggregation.\n",
    "    machine_predictions: A dictionary which maps machine name to it's predictions over X_l\n",
    "            This value is used to determine which points from y_l are used to aggregate.\n",
    "    \"\"\"\n",
    "    def __init__(self, random_state=None, machine_list='basic'):\n",
    "        self.random_state = random_state\n",
    "        self.machine_list = machine_list\n",
    "\n",
    "    def fit(self, X, y, default=True, X_k=None, X_l=None, y_k=None, y_l=None):\n",
    "        \"\"\"\n",
    "        Parameters\n",
    "        ----------\n",
    "        X: array-like, [n_samples, n_features]\n",
    "            Training data which will be used to create ClassifierCobra.\n",
    "        y: array-like [n_samples]\n",
    "            Training labels for classification.\n",
    "        default: bool, optional\n",
    "            If set as true then sets up COBRA with default machines and splitting.\n",
    "        X_k : shape = [n_samples, n_features]\n",
    "            Training data which is used to train the machines loaded into COBRA.\n",
    "        y_k : array-like, shape = [n_samples]\n",
    "            Target values used to train the machines loaded into COBRA.\n",
    "        X_l : shape = [n_samples, n_features]\n",
    "            Training data which is used during the aggregation of COBRA.\n",
    "        y_l : array-like, shape = [n_samples]\n",
    "            Target values which are actually used in the aggregation of COBRA.\n",
    "        \"\"\"\n",
    "\n",
    "        X, y = check_X_y(X, y)\n",
    "        self.X_ = X\n",
    "        self.y_ = y\n",
    "        self.X_k_ = X_k\n",
    "        self.X_l_ = X_l\n",
    "        self.y_k_ = y_k\n",
    "        self.y_l_ = y_l\n",
    "        self.estimators_ = {}\n",
    "\n",
    "        # try block to pass scikit-learn estimator check.\n",
    "        try:\n",
    "            # set-up COBRA with default machines\n",
    "            if default:\n",
    "                self.split_data()\n",
    "                self.load_default(machine_list=self.machine_list)\n",
    "                self.load_machine_predictions()\n",
    "        except ValueError:\n",
    "            return self\n",
    "\n",
    "        return self \n",
    "\n",
    "\n",
    "    def pred(self, X, M, info=False):\n",
    "        \"\"\"\n",
    "        Performs the CLassififerCobra aggregation scheme, used in predict method.\n",
    "        Parameters\n",
    "        ----------\n",
    "        X: array-like, [n_features]\n",
    "        M: int, optional\n",
    "            M refers to the number of machines the prediction must be close to to be considered during aggregation.\n",
    "        info: boolean, optional\n",
    "            If info is true the list of points selected in the aggregation is returned.\n",
    "        Returns\n",
    "        -------\n",
    "        result: prediction\n",
    "        \"\"\"\n",
    "\n",
    "        # dictionary mapping machine to points selected\n",
    "        select = {}\n",
    "        for machine in self.estimators_:\n",
    "            # machine prediction\n",
    "            file = \"Model_\" + machine + \".sav\"\n",
    "            model = pickle.load(open(file,'rb'))\n",
    "            label = model.predict(X)\n",
    "            select[machine] = set()\n",
    "            # iterating from l to n\n",
    "            # replace with numpy iteration\n",
    "            for count in range(0, len(self.X_l_)):\n",
    "                if self.machine_predictions_[machine][count] == label:\n",
    "                    select[machine].add(count)\n",
    "\n",
    "        points = []\n",
    "        # count is the indice number.\n",
    "        for count in range(0, len(self.X_l_)):\n",
    "            # row check is number of machines which picked up a particular point\n",
    "            row_check = 0\n",
    "            for machine in select:\n",
    "                if count in select[machine]:\n",
    "                    row_check += 1\n",
    "            if row_check == M:\n",
    "                points.append(count)\n",
    "\n",
    "        # if no points are selected, return 0\n",
    "        if len(points) == 0:\n",
    "            if info:\n",
    "                logger.info(\"No points were selected, prediction is 0\")\n",
    "                return (0, 0)\n",
    "            logger.info(\"No points were selected, prediction is 0\")\n",
    "            return 0\n",
    "\n",
    "        # aggregate\n",
    "        classes = {}\n",
    "        for label in np.unique(self.y_l_):\n",
    "            classes[label] = 0\n",
    "\n",
    "        for point in points:\n",
    "            classes[self.y_l_[point]] += 1\n",
    "\n",
    "        result = int(max(classes, key=classes.get))\n",
    "        if info:\n",
    "            return result, points\n",
    "        return result\n",
    "\n",
    "\n",
    "    def predict(self, X, M=None, info=False):\n",
    "        \"\"\"\n",
    "        Performs the ClassifierCobra aggregation scheme, calls pred.\n",
    "        ClassifierCobra performs a majority vote among all points which are retained by the COBRA procedure.\n",
    "        Parameters\n",
    "        ----------\n",
    "        X: array-like, [n_features]\n",
    "        M: int, optional\n",
    "            M refers to the number of machines the prediction must be close to to be considered during aggregation.\n",
    "        info: boolean, optional\n",
    "            If info is true the list of points selected in the aggregation is returned.\n",
    "        Returns\n",
    "        -------\n",
    "        result: prediction\n",
    "        \"\"\"\n",
    "        X = check_array(X)\n",
    "\n",
    "        if M is None:\n",
    "            M = len(self.estimators_)\n",
    "        if X.ndim == 1:\n",
    "            return self.pred(X.reshape(1, -1), M=M)\n",
    "\n",
    "        result = np.zeros(len(X))\n",
    "        avg_points = 0\n",
    "        index = 0\n",
    "        for vector in X:\n",
    "            if info:\n",
    "                result[index], points = self.pred(vector.reshape(1, -1), M=M, info=info)\n",
    "                avg_points += len(points)\n",
    "            else:\n",
    "                result[index] = self.pred(vector.reshape(1, -1), M=M)\n",
    "            index += 1\n",
    "        \n",
    "        if info:\n",
    "            avg_points = avg_points / len(X_array)\n",
    "            return result, avg_points\n",
    "        \n",
    "        return result\n",
    "\n",
    "\n",
    "    def predict_proba(self, X, kernel=None, metric=None, bandwidth=1, **kwargs): \n",
    "        \"\"\"\n",
    "        Performs the ClassifierCobra aggregation scheme and calculates probability of a point being in a particular class.\n",
    "        ClassifierCobra performs a majority vote among all points which are retained by the COBRA procedure.\n",
    "        \n",
    "        NOTE: this method is to visualise boundaries.\n",
    "        The current method is just the mean of the consituent machines, as the concept of that kind of predicted probability\n",
    "        doesn't exist (yet) for classifier cobra.\n",
    "        Parameters\n",
    "        ----------\n",
    "        X: array-like, [n_features]\n",
    "        \"\"\"\n",
    "\n",
    "        probs = []\n",
    "        for machine in self.estimators_:\n",
    "            try:\n",
    "                probs.append(self.estimators_[machine].predict_proba(X))\n",
    "            except AttributeError:\n",
    "                continue\n",
    "        prob = np.mean(probs, axis=0)\n",
    "        return prob\n",
    "\n",
    "\n",
    "    def split_data(self, k=None, l=None, shuffle_data=True):\n",
    "        \"\"\"\n",
    "        Split the data into different parts for training machines and for aggregation.\n",
    "        Parameters\n",
    "        ----------\n",
    "        k : int, optional\n",
    "            k is the number of points used to train the machines.\n",
    "            Those are the first k points of the data provided.\n",
    "        l: int, optional\n",
    "            l is the number of points used to form the ClassifierCobra aggregate.\n",
    "        shuffle: bool, optional\n",
    "            Boolean value to decide to shuffle the data before splitting.\n",
    "        Returns\n",
    "        -------\n",
    "        self : returns an instance of self.\n",
    "        \"\"\"\n",
    "\n",
    "        if shuffle_data:\n",
    "            self.X_, self.y_ = shuffle(self.X_, self.y_, random_state=self.random_state)\n",
    "\n",
    "        if k is None and l is None:\n",
    "            k = int(len(self.X_) / 2)\n",
    "            l = int(len(self.X_))\n",
    "\n",
    "        if k is not None and l is None:\n",
    "            l = len(self.X_) - k\n",
    "\n",
    "        if l is not None and k is None:\n",
    "            k = len(self.X_) - l\n",
    "\n",
    "        self.X_k_ = self.X_[:k]\n",
    "        self.X_l_ = self.X_[k:l]\n",
    "        self.y_k_ = self.y_[:k]\n",
    "        self.y_l_ = self.y_[k:l]\n",
    "\n",
    "        return self\n",
    "\n",
    "\n",
    "    def load_default(self, machine_list='basic'):\n",
    "        \"\"\"\n",
    "        Loads 4 different scikit-learn regressors by default. The advanced list adds more machines. \n",
    "        As of current release SGD algorithm is not included in the advanced list.\n",
    "        Parameters\n",
    "        ----------\n",
    "        machine_list: optional, list of strings\n",
    "            List of default machine names to be loaded.\n",
    "        Returns\n",
    "        -------\n",
    "        self : returns an instance of self.\n",
    "        \"\"\"\n",
    "        if machine_list == 'basic':\n",
    "            machine_list = ['naive_bayes', 'tree', 'knn', 'svm', 'logreg']\n",
    "        if machine_list == 'advanced':\n",
    "            machine_list = ['tree', 'knn', 'svm', 'logreg', 'naive_bayes', 'lda', 'neural_network']\n",
    "\n",
    "        for machine in machine_list:\n",
    "            try:\n",
    "                if machine == 'svm':\n",
    "                    self.estimators_['svm'] = svm.SVC().fit(self.X_k_, self.y_k_)\n",
    "                    pickle.dump(self.estimators_['svm'], open('Model_svm.sav','wb'))\n",
    "                if machine == 'knn':\n",
    "                    self.estimators_['knn'] = neighbors.KNeighborsClassifier().fit(self.X_k_, self.y_k_)\n",
    "                    pickle.dump(self.estimators_['knn'], open('Model_knn.sav','wb'))\n",
    "                if machine == 'tree':\n",
    "                    self.estimators_['tree'] = tree.DecisionTreeClassifier().fit(self.X_k_, self.y_k_)\n",
    "                    pickle.dump(self.estimators_['tree'], open('Model_tree.sav','wb'))\n",
    "                if machine == 'logreg':\n",
    "                    self.estimators_['logreg'] = LogisticRegression(random_state=self.random_state).fit(self.X_k_, self.y_k_)\n",
    "                    pickle.dump(self.estimators_['logreg'], open('Model_logreg.sav','wb'))\n",
    "                if machine == 'naive_bayes':\n",
    "                    self.estimators_['naive_bayes'] = GaussianNB().fit(self.X_k_, self.y_k_)\n",
    "                    pickle.dump(self.estimators_['naive_bayes'], open('Model_naive_bayes.sav','wb'))\n",
    "                if machine == 'lda':\n",
    "                    self.estimators_['lda'] = LinearDiscriminantAnalysis().fit(self.X_k_, self.y_k_)\n",
    "                    pickle.dump(self.estimators_['lda'], open('Model_lda.sav','wb'))\n",
    "                if machine == 'neural_network':\n",
    "                    self.estimators_['neural_network'] = MLPClassifier(random_state=self.random_state).fit(self.X_k_, self.y_k_)\n",
    "                    pickle.dump(self.estimators_['neural_network'], open('Model_neural_network.sav','wb'))\n",
    "            except ValueError:\n",
    "                continue\n",
    "\n",
    "        return self\n",
    "\n",
    "\n",
    "    def load_machine(self, machine_name, machine):\n",
    "        \"\"\"\n",
    "        Adds a machine to be used during the aggregation strategy.\n",
    "        The machine object must have been trained using X_k and y_k, and must have a 'predict()' method.\n",
    "        After the machine is loaded, for it to be used during aggregation, load_machine_predictions must be run.\n",
    "        Parameters\n",
    "        ----------\n",
    "        machine_name : string\n",
    "            Name of the machine you are loading\n",
    "        machine: machine/regressor object\n",
    "            The regressor machine object which is mapped to the machine_name\n",
    "        Returns\n",
    "        -------\n",
    "        self : returns an instance of self.\n",
    "        \"\"\"\n",
    "\n",
    "\n",
    "        return self\n",
    "\n",
    "\n",
    "    def load_machine_predictions(self, predictions=None):\n",
    "        \"\"\"\n",
    "        Stores the trained machines' predicitons on D_l in a dictionary, to be used for predictions.\n",
    "        Should be run after all the machines to be used for aggregation is loaded.\n",
    "        Parameters\n",
    "        ----------\n",
    "        predictions: dictionary, optional\n",
    "            A pre-existing machine:predictions dictionary can also be loaded.\n",
    "        Returns\n",
    "        -------\n",
    "        self : returns an instance of self.\n",
    "        \"\"\"\n",
    "        self.machine_predictions_ = {}\n",
    "        if predictions is None:\n",
    "            for machine in self.estimators_:\n",
    "                self.machine_predictions_[machine] = self.estimators_[machine].predict(self.X_l_)\n",
    "\n",
    "        return self\n",
    "\n",
    "\n",
    "    def load_machine_proba_predictions(self, predictions=None):\n",
    "        \"\"\"\n",
    "        Stores the trained machines' predicitons on D_l in a dictionary, to be used for predictions.\n",
    "        Should be run after all the machines to be used for aggregation is loaded.\n",
    "        Parameters\n",
    "        ----------\n",
    "        predictions: dictionary, optional\n",
    "            A pre-existing machine:predictions dictionary can also be loaded.\n",
    "        Returns\n",
    "        -------\n",
    "        self : returns an instance of self.\n",
    "        \"\"\"\n",
    "        self.machine_proba_predictions_ = {}\n",
    "        if predictions is None:\n",
    "            for machine in self.estimators_:\n",
    "                try:\n",
    "                    self.machine_proba_predictions_[machine] = self.estimators_[machine].predict_proba(self.X_l_)\n",
    "                except AttributeError:\n",
    "                    self.machine_proba_predictions_[machine] = self.estimators_[machine].decision_function(self.X_l_)\n",
    "        return self"
   ]
  },
  {
   "cell_type": "code",
   "execution_count": 18,
   "id": "6b422066",
   "metadata": {},
   "outputs": [],
   "source": [
    "obj = ClassifierCobra()"
   ]
  },
  {
   "cell_type": "code",
   "execution_count": 19,
   "id": "f46f61c7",
   "metadata": {},
   "outputs": [
    {
     "data": {
      "text/plain": [
       "ClassifierCobra()"
      ]
     },
     "execution_count": 19,
     "metadata": {},
     "output_type": "execute_result"
    }
   ],
   "source": [
    "obj.fit(X_train_sm, y_train_sm)"
   ]
  },
  {
   "cell_type": "markdown",
   "id": "859e472d",
   "metadata": {},
   "source": [
    "Saving files for prediction later"
   ]
  },
  {
   "cell_type": "code",
   "execution_count": 20,
   "id": "69183ac8",
   "metadata": {},
   "outputs": [
    {
     "data": {
      "text/plain": [
       "['machine_predictions_.joblib']"
      ]
     },
     "execution_count": 20,
     "metadata": {},
     "output_type": "execute_result"
    }
   ],
   "source": [
    "dump(obj.X_l_, 'X_l_.joblib')\n",
    "dump(obj.y_l_, 'y_l_.joblib')\n",
    "dump(obj.machine_predictions_, 'machine_predictions_.joblib')"
   ]
  },
  {
   "cell_type": "markdown",
   "id": "a441e785",
   "metadata": {},
   "source": [
    "# Prediction on test set using classifier PyCOBRA"
   ]
  },
  {
   "cell_type": "code",
   "execution_count": 21,
   "id": "a174c4f1",
   "metadata": {},
   "outputs": [],
   "source": [
    "y_pred_cobra = obj.predict(X_test)"
   ]
  },
  {
   "cell_type": "code",
   "execution_count": 22,
   "id": "c4e4ee60",
   "metadata": {},
   "outputs": [
    {
     "name": "stdout",
     "output_type": "stream",
     "text": [
      "[[109  32]\n",
      " [ 20  39]]\n"
     ]
    },
    {
     "data": {
      "text/plain": [
       "0.74"
      ]
     },
     "execution_count": 22,
     "metadata": {},
     "output_type": "execute_result"
    }
   ],
   "source": [
    "cm = confusion_matrix(y_test, y_pred_cobra)\n",
    "print(cm)\n",
    "accuracy_score(y_test, y_pred_cobra)"
   ]
  },
  {
   "cell_type": "code",
   "execution_count": 27,
   "id": "56714037",
   "metadata": {},
   "outputs": [
    {
     "data": {
      "text/plain": [
       "<AxesSubplot:>"
      ]
     },
     "execution_count": 27,
     "metadata": {},
     "output_type": "execute_result"
    },
    {
     "data": {
      "image/png": "[encoded data removed]",
      "text/plain": [
       "<Figure size 432x288 with 2 Axes>"
      ]
     },
     "metadata": {
      "needs_background": "light"
     },
     "output_type": "display_data"
    }
   ],
   "source": [
    "sns.heatmap(confusion_matrix(y_test, y_pred_cobra), annot = True, fmt='g')"
   ]
  },
  {
   "cell_type": "code",
   "execution_count": 28,
   "id": "f8f88dca",
   "metadata": {},
   "outputs": [
    {
     "name": "stdout",
     "output_type": "stream",
     "text": [
      "              precision    recall  f1-score   support\n",
      "\n",
      "           0       0.84      0.77      0.81       141\n",
      "           1       0.55      0.66      0.60        59\n",
      "\n",
      "    accuracy                           0.74       200\n",
      "   macro avg       0.70      0.72      0.70       200\n",
      "weighted avg       0.76      0.74      0.75       200\n",
      "\n"
     ]
    }
   ],
   "source": [
    "print(classification_report(y_test, y_pred_cobra))"
   ]
  },
  {
   "cell_type": "code",
   "execution_count": 23,
   "id": "887f22e3",
   "metadata": {},
   "outputs": [
    {
     "data": {
      "text/plain": [
       "132"
      ]
     },
     "execution_count": 23,
     "metadata": {},
     "output_type": "execute_result"
    }
   ],
   "source": [
    "eff_cost = cm[1][0]*5 + cm[0][1]\n",
    "eff_cost"
   ]
  }
 ],
 "metadata": {
  "kernelspec": {
   "display_name": "Python 3",
   "language": "python",
   "name": "python3"
  },
  "language_info": {
   "codemirror_mode": {
    "name": "ipython",
    "version": 3
   },
   "file_extension": ".py",
   "mimetype": "text/x-python",
   "name": "python",
   "nbconvert_exporter": "python",
   "pygments_lexer": "ipython3",
   "version": "3.8.8"
  }
 },
 "nbformat": 4,
 "nbformat_minor": 5
}
